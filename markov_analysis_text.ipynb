{
  "nbformat": 4,
  "nbformat_minor": 0,
  "metadata": {
    "colab": {
      "name": "markov_analysis_text.ipynb",
      "provenance": [],
      "authorship_tag": "ABX9TyMd0DRZMwlUcnPkDae4PQuQ",
      "include_colab_link": true
    },
    "kernelspec": {
      "name": "python3",
      "display_name": "Python 3"
    },
    "language_info": {
      "name": "python"
    }
  },
  "cells": [
    {
      "cell_type": "markdown",
      "metadata": {
        "id": "view-in-github",
        "colab_type": "text"
      },
      "source": [
        "<a href=\"https://colab.research.google.com/github/khroushan/embedding_layer_experiment/blob/main/markov_analysis_text.ipynb\" target=\"_parent\"><img src=\"https://colab.research.google.com/assets/colab-badge.svg\" alt=\"Open In Colab\"/></a>"
      ]
    },
    {
      "cell_type": "code",
      "metadata": {
        "id": "A0xuSqMvppdF"
      },
      "source": [
        "some_text = \"\"\"Zebras are primarily grazers and can subsist on lower-quality \n",
        "            vegetation. They are preyed on mainly by lions and typically flee \n",
        "            when threatened but also bite and kick. Zebra species differ in \n",
        "            social behaviour, with plains and mountain zebra living in stable \n",
        "            harems consisting of an adult male or stallion, several adult \n",
        "            females or mares, and their young or foals; while Grévy's zebra \n",
        "            live alone or in loosely associated herds. In harem-holding species, \n",
        "            adult females mate only with their harem stallion, while male \n",
        "            Grévy's zebras establish territories which attract females and the \n",
        "            species is promiscuous. Zebras communicate with various \n",
        "            vocalisations, body postures and facial expressions. Social \n",
        "            grooming strengthens social bonds in plains and mountain zebras.\n",
        "            \"\"\""
      ],
      "execution_count": 1,
      "outputs": []
    },
    {
      "cell_type": "code",
      "metadata": {
        "id": "iQjNebqOs0NL"
      },
      "source": [
        "### method to extract the Markov transition matrix\n",
        "def shift(in_tup, element):\n",
        "    return in_tup[1:] + (element,)\n",
        "\n",
        "def markov_mtx_extractor(events: list, mk_len = 2):\n",
        "  \"\"\" Count number of transition from state `w_i` to `w_i+1`. Calculate the \n",
        "  transition probabilities for available states.\n",
        "\n",
        "  input:\n",
        "  ------\n",
        "  events: list, sequence of states\n",
        "  mk_len: int, number of states gathered\n",
        "\n",
        "  output:\n",
        "  -------\n",
        "  transition_dict: dict of tuples: count transition from one state to another.\n",
        "  transition_norm: dict of tuples: transition rate (prob.)\n",
        "\n",
        "  TODO:\n",
        "  - the norm is not correct, the sum of prob. in each columns and rows\n",
        "  must be one.\n",
        "  - a function that convert the transition dictionary to a sparse matrix \n",
        "  representation with dictionary of indx and jndx to corresponding words.\n",
        "  \"\"\"\n",
        "    transition_dic = {}\n",
        "    pre = ()\n",
        "    for event in events:\n",
        "        if len(pre) < mk_len:\n",
        "            pre +=  (event,)\n",
        "        else:\n",
        "            try:\n",
        "                transition_dic[pre] += 1\n",
        "            except: \n",
        "                transition_dic[pre] = 1\n",
        "                \n",
        "            pre = shift(pre, event)\n",
        "            \n",
        "    transision_norm = {key:transition_dic[key]/len(events) for key in transition_dic.keys()}\n",
        "    return transition_dic, transision_norm\n",
        "\n",
        "def get_vocabs_dict(text: str, lowercase=True):\n",
        "  \"\"\" Get vocaburaly of the text\n",
        "\n",
        "    - convert it to lower case\n",
        "  \"\"\"\n",
        "  vocaburaly = set(text.lower().split())\n",
        "  # reserve 0 for unknown vocab in the text\n",
        "  vocab_dict = {v:i for v,i in zip(vocaburaly, range(1, len(vocaburaly)+1))}\n",
        "  return vocab_dict\n"
      ],
      "execution_count": 3,
      "outputs": []
    },
    {
      "cell_type": "code",
      "metadata": {
        "id": "1bkrgAKJth1G"
      },
      "source": [
        "transition_dict, transition_norm = markov_mtx_extractor(some_text.lower().rstrip().split())"
      ],
      "execution_count": 4,
      "outputs": []
    },
    {
      "cell_type": "code",
      "metadata": {
        "colab": {
          "base_uri": "https://localhost:8080/"
        },
        "id": "fdDJKkKu4xV3",
        "outputId": "2072d5f4-b86f-4831-e6bf-dd5e96eb79ae"
      },
      "source": [
        "len(get_vocabs_dict(some_text))"
      ],
      "execution_count": 5,
      "outputs": [
        {
          "output_type": "execute_result",
          "data": {
            "text/plain": [
              "78"
            ]
          },
          "metadata": {},
          "execution_count": 5
        }
      ]
    },
    {
      "cell_type": "code",
      "metadata": {
        "id": "ghuBXAgipQnA"
      },
      "source": [
        "sub_dict, sub_norm = "
      ],
      "execution_count": null,
      "outputs": []
    }
  ]
}