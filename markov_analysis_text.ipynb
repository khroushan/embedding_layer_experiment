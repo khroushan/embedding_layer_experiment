{
  "nbformat": 4,
  "nbformat_minor": 0,
  "metadata": {
    "colab": {
      "name": "markov_analysis_text.ipynb",
      "provenance": [],
      "collapsed_sections": [],
      "authorship_tag": "ABX9TyP6TK2LKTl+BhRBdGMJiRhi",
      "include_colab_link": true
    },
    "kernelspec": {
      "name": "python3",
      "display_name": "Python 3"
    },
    "language_info": {
      "name": "python"
    }
  },
  "cells": [
    {
      "cell_type": "markdown",
      "metadata": {
        "id": "view-in-github",
        "colab_type": "text"
      },
      "source": [
        "<a href=\"https://colab.research.google.com/github/khroushan/embedding_layer_experiment/blob/main/markov_analysis_text.ipynb\" target=\"_parent\"><img src=\"https://colab.research.google.com/assets/colab-badge.svg\" alt=\"Open In Colab\"/></a>"
      ]
    },
    {
      "cell_type": "markdown",
      "metadata": {
        "id": "ZRMwTPdnL1aL"
      },
      "source": [
        "### TODO:\n",
        "- [ ] function to standardize a count sparse matrix\n",
        "  \n",
        "Later when we have transition matrix (TM) for the whole corpus and TM for a single data point to take the difference the sub matrix must renormalized again.\n",
        "\n",
        "- [ ] import `imdb` data from keras (it is been already converted to integer indices). Concatenate all entries to large text (corpus)\n",
        "- [ ] apply markov transition counter to both corpus and every entry separately.  "
      ]
    },
    {
      "cell_type": "code",
      "metadata": {
        "id": "Hd5hI96BlcFI"
      },
      "source": [
        "import numpy as np\n",
        "from tensorflow import keras"
      ],
      "execution_count": 2,
      "outputs": []
    },
    {
      "cell_type": "code",
      "metadata": {
        "id": "A0xuSqMvppdF"
      },
      "source": [
        "some_text = \"\"\"Zebras are primarily grazers and can subsist on lower-quality \n",
        "            vegetation. They are preyed on mainly by lions and typically flee \n",
        "            when threatened but also bite and kick. Zebra species differ in \n",
        "            social behaviour, with plains and mountain zebra living in stable \n",
        "            harems consisting of an adult male or stallion, several adult \n",
        "            females or mares, and their young or foals; while Grévy's zebra \n",
        "            live alone or in loosely associated herds. In harem-holding species, \n",
        "            adult females mate only with their harem stallion, while male \n",
        "            Grévy's zebras establish territories which attract females and the \n",
        "            species is promiscuous. Zebras communicate with various \n",
        "            vocalisations, body postures and facial expressions. Social \n",
        "            grooming strengthens social bonds in plains and mountain zebras.\n",
        "            \"\"\""
      ],
      "execution_count": 3,
      "outputs": []
    },
    {
      "cell_type": "code",
      "metadata": {
        "id": "iQjNebqOs0NL"
      },
      "source": [
        "### method to extract the Markov transition matrix\n",
        "def shift(in_tup, element):\n",
        "    return in_tup[1:] + (element,)\n",
        "\n",
        "def markov_dict_extractor(events: list, mk_len = 2):\n",
        "  \"\"\" Count number of transition from state `w_i` to `w_i+1`. Calculate the \n",
        "  transition probabilities for available states.\n",
        "\n",
        "  input:\n",
        "  ------\n",
        "  events: list, sequence of states\n",
        "  mk_len: int, number of states gathered\n",
        "\n",
        "  output:\n",
        "  -------\n",
        "  transition_dict: dict of tuples: count transition from one state to another.\n",
        "  transition_norm: dict of tuples: transition rate (prob.)\n",
        "\n",
        "  TODO:\n",
        "  - the norm is not correct, the sum of prob. in each columns and rows\n",
        "  must be one.\n",
        "  - a function that convert the transition dictionary to a sparse matrix \n",
        "  representation with dictionary of indx and jndx to corresponding words.\n",
        "  \"\"\"\n",
        "  events.append('EMPTY') # to count the last element as well\n",
        "  transition_dic = {}\n",
        "  pre = ()\n",
        "  for event in events:\n",
        "      if len(pre) < mk_len:\n",
        "          pre +=  (event,)\n",
        "      else:\n",
        "          try:\n",
        "              transition_dic[pre] += 1\n",
        "          except: \n",
        "              transition_dic[pre] = 1\n",
        "          pre = shift(pre, event)\n",
        "          \n",
        "          \n",
        "  return transition_dic\n",
        "\n",
        "def get_vocabs_dict(text: str, lowercase=True):\n",
        "  \"\"\" Get vocaburaly of the text\n",
        "\n",
        "    - convert it to lower case\n",
        "  \"\"\"\n",
        "  vocaburaly = set(text.lower().split())\n",
        "  # reserve 0 for unknown vocab in the text\n",
        "  vocab_dict = {v:i for v,i in zip(vocaburaly, range(1, len(vocaburaly)+1))}\n",
        "  return vocab_dict\n"
      ],
      "execution_count": 4,
      "outputs": []
    },
    {
      "cell_type": "code",
      "metadata": {
        "id": "1bkrgAKJth1G"
      },
      "source": [
        "transition_dict = markov_dict_extractor(some_text.lower().rstrip().split())"
      ],
      "execution_count": 5,
      "outputs": []
    },
    {
      "cell_type": "code",
      "metadata": {
        "colab": {
          "base_uri": "https://localhost:8080/"
        },
        "id": "fdDJKkKu4xV3",
        "outputId": "61a5bdd6-1d43-486d-f708-de9dc4d24d7e"
      },
      "source": [
        "len(get_vocabs_dict(some_text))"
      ],
      "execution_count": 6,
      "outputs": [
        {
          "output_type": "execute_result",
          "data": {
            "text/plain": [
              "78"
            ]
          },
          "metadata": {},
          "execution_count": 6
        }
      ]
    },
    {
      "cell_type": "code",
      "metadata": {
        "id": "xFuMbqLOrYMx"
      },
      "source": [
        "sub_text = \"\"\" Zebras communicate with various \n",
        "            vocalisations, body postures and facial expressions\n",
        "            \"\"\""
      ],
      "execution_count": 7,
      "outputs": []
    },
    {
      "cell_type": "code",
      "metadata": {
        "id": "ghuBXAgipQnA"
      },
      "source": [
        "sub_dict = markov_dict_extractor(some_text.lower().rstrip().split(), mk_len=2)\n",
        "sub_dict_1 = markov_dict_extractor(some_text.lower().rstrip().split(), mk_len=1)"
      ],
      "execution_count": 8,
      "outputs": []
    },
    {
      "cell_type": "code",
      "metadata": {
        "colab": {
          "base_uri": "https://localhost:8080/"
        },
        "id": "R-Ljg0yMsBcb",
        "outputId": "28dd7d21-3bee-4fa2-f9aa-86ab9fd0a9a3"
      },
      "source": [
        "sub_dict.keys()"
      ],
      "execution_count": 9,
      "outputs": [
        {
          "output_type": "execute_result",
          "data": {
            "text/plain": [
              "dict_keys([('zebras', 'are'), ('are', 'primarily'), ('primarily', 'grazers'), ('grazers', 'and'), ('and', 'can'), ('can', 'subsist'), ('subsist', 'on'), ('on', 'lower-quality'), ('lower-quality', 'vegetation.'), ('vegetation.', 'they'), ('they', 'are'), ('are', 'preyed'), ('preyed', 'on'), ('on', 'mainly'), ('mainly', 'by'), ('by', 'lions'), ('lions', 'and'), ('and', 'typically'), ('typically', 'flee'), ('flee', 'when'), ('when', 'threatened'), ('threatened', 'but'), ('but', 'also'), ('also', 'bite'), ('bite', 'and'), ('and', 'kick.'), ('kick.', 'zebra'), ('zebra', 'species'), ('species', 'differ'), ('differ', 'in'), ('in', 'social'), ('social', 'behaviour,'), ('behaviour,', 'with'), ('with', 'plains'), ('plains', 'and'), ('and', 'mountain'), ('mountain', 'zebra'), ('zebra', 'living'), ('living', 'in'), ('in', 'stable'), ('stable', 'harems'), ('harems', 'consisting'), ('consisting', 'of'), ('of', 'an'), ('an', 'adult'), ('adult', 'male'), ('male', 'or'), ('or', 'stallion,'), ('stallion,', 'several'), ('several', 'adult'), ('adult', 'females'), ('females', 'or'), ('or', 'mares,'), ('mares,', 'and'), ('and', 'their'), ('their', 'young'), ('young', 'or'), ('or', 'foals;'), ('foals;', 'while'), ('while', \"grévy's\"), (\"grévy's\", 'zebra'), ('zebra', 'live'), ('live', 'alone'), ('alone', 'or'), ('or', 'in'), ('in', 'loosely'), ('loosely', 'associated'), ('associated', 'herds.'), ('herds.', 'in'), ('in', 'harem-holding'), ('harem-holding', 'species,'), ('species,', 'adult'), ('females', 'mate'), ('mate', 'only'), ('only', 'with'), ('with', 'their'), ('their', 'harem'), ('harem', 'stallion,'), ('stallion,', 'while'), ('while', 'male'), ('male', \"grévy's\"), (\"grévy's\", 'zebras'), ('zebras', 'establish'), ('establish', 'territories'), ('territories', 'which'), ('which', 'attract'), ('attract', 'females'), ('females', 'and'), ('and', 'the'), ('the', 'species'), ('species', 'is'), ('is', 'promiscuous.'), ('promiscuous.', 'zebras'), ('zebras', 'communicate'), ('communicate', 'with'), ('with', 'various'), ('various', 'vocalisations,'), ('vocalisations,', 'body'), ('body', 'postures'), ('postures', 'and'), ('and', 'facial'), ('facial', 'expressions.'), ('expressions.', 'social'), ('social', 'grooming'), ('grooming', 'strengthens'), ('strengthens', 'social'), ('social', 'bonds'), ('bonds', 'in'), ('in', 'plains'), ('mountain', 'zebras.')])"
            ]
          },
          "metadata": {},
          "execution_count": 9
        }
      ]
    },
    {
      "cell_type": "code",
      "metadata": {
        "id": "scUvfsnIrrkV"
      },
      "source": [
        "# sparse representation of transition matrix\n",
        "def transition_mtx_to_sparse(trans_dict: dict, mk_len=2):\n",
        "  \"\"\" Extract i-index, j-index and value transition \n",
        "  from transition dict \n",
        "  \"\"\"\n",
        "  if mk_len == 2:\n",
        "    indx = [c[0] for c in trans_dict.keys()]\n",
        "    jndx = [c[1] for c in trans_dict.keys()]\n",
        "    cnt_vect = [v for v in trans_dict.values()] \n",
        "  elif mk_len == 1:\n",
        "    indx = [c[0] for c in trans_dict.keys()]\n",
        "    jndx = []\n",
        "    cnt_vect = [v for v in trans_dict.values()]\n",
        "  else:\n",
        "    print(\"order of markov unit must be <= 2 !\")\n",
        "\n",
        "  return np.array(indx), np.array(jndx), np.array(cnt_vect)"
      ],
      "execution_count": 30,
      "outputs": []
    },
    {
      "cell_type": "code",
      "metadata": {
        "colab": {
          "base_uri": "https://localhost:8080/"
        },
        "id": "zf-ejqagsJU4",
        "outputId": "0e35afc0-b943-4ad5-ebb8-703f287240bd"
      },
      "source": [
        "indx, jndx, cnt_vect = transition_mtx_to_sparse(sub_dict, mk_len=2)\n",
        "words, _, counts = transition_mtx_to_sparse(sub_dict_1, mk_len=1)\n",
        "print(len(indx), len(jndx), len(cnt_vect))\n",
        "word_counts = dict(zip(words, counts))"
      ],
      "execution_count": 31,
      "outputs": [
        {
          "output_type": "stream",
          "name": "stdout",
          "text": [
            "110 110 110\n"
          ]
        }
      ]
    },
    {
      "cell_type": "markdown",
      "metadata": {
        "id": "T7sqvoyk6w7x"
      },
      "source": [
        "\\begin{array}{cccccccccc}\n",
        "      & and & in & is & most & nature & of & the & this & which\\\\\n",
        "and   & 0   & 0  & 0  & 0    & 0      & 0  & 0   & 0    & 1\\\\\n",
        "in    & 1   & 0  & 2  & 0    & 0      & 0  & 1   & 0    & 0\\\\\n",
        "is    & 0   & 3  & 0  & 0    & 0      & 0  & 1   & 0    & 0\\\\\n",
        "most  & 0   & 0  & 1  & 0    & 0      & 0  & 0   & 0    & 0\\\\\n",
        "nature& 0   & 0  & 0  & 0    & 0      & 1  & 0   & 0    & 0\\\\\n",
        "of    & 0   & 1  & 0  & 0    & 0      & 0  & 0   & 0    & 0\\\\\n",
        "the   & 0   & 0  & 0  & 1    & 1      & 0  & 0   & 0    & 0\\\\\n",
        "this  & 0   & 0  & 1  & 0    & 0      & 0  & 0   & 0    & 0\\\\\n",
        "which & 0   & 0  & 0  & 0    & 0      & 0  & 0   & 0    & 0 \n",
        "\\end{array}"
      ]
    },
    {
      "cell_type": "code",
      "metadata": {
        "id": "Yl6GQ2darIXO",
        "colab": {
          "base_uri": "https://localhost:8080/"
        },
        "outputId": "890f0688-7ea6-4898-cf98-211253530cbb"
      },
      "source": [
        "text = 'this is in the nature of in is the most is in is in and which'\n",
        "dict_text = markov_dict_extractor(text.rstrip().split())\n",
        "word_counts = markov_dict_extractor(text.rstrip().split(), 1)\n",
        "indx, jndx, cnt_vect = transition_mtx_to_sparse(dict_text, mk_len=2)\n",
        "## dict_text\n",
        "# {('and', 'which'): 1,\n",
        "#  ('in', 'and'): 1,\n",
        "#  ('in', 'is'): 2,\n",
        "#  ('in', 'the'): 1,\n",
        "#  ('is', 'in'): 3,\n",
        "#  ('is', 'the'): 1,\n",
        "#  ('most', 'is'): 1,\n",
        "#  ('nature', 'of'): 1,\n",
        "#  ('of', 'in'): 1,\n",
        "#  ('the', 'most'): 1,\n",
        "#  ('the', 'nature'): 1,\n",
        "#  ('this', 'is'): 1}\n",
        "print(dict_text)\n",
        "## word_counts\n",
        "# {('and',): 1,\n",
        "#  ('in',): 4,\n",
        "#  ('is',): 4,\n",
        "#  ('most',): 1,\n",
        "#  ('nature',): 1,\n",
        "#  ('of',): 1,\n",
        "#  ('the',): 2,\n",
        "#  ('this',): 1,\n",
        "#  ('which',): 1}"
      ],
      "execution_count": 35,
      "outputs": [
        {
          "output_type": "stream",
          "name": "stdout",
          "text": [
            "{('this', 'is'): 1, ('is', 'in'): 3, ('in', 'the'): 1, ('the', 'nature'): 1, ('nature', 'of'): 1, ('of', 'in'): 1, ('in', 'is'): 2, ('is', 'the'): 1, ('the', 'most'): 1, ('most', 'is'): 1, ('in', 'and'): 1, ('and', 'which'): 1}\n"
          ]
        }
      ]
    },
    {
      "cell_type": "code",
      "metadata": {
        "colab": {
          "base_uri": "https://localhost:8080/"
        },
        "id": "DpJ6mn-7ZXDc",
        "outputId": "c646611b-2273-4c5d-a79a-97a2c91e8a79"
      },
      "source": [
        "for i,j,k in zip(indx, jndx, cnt_vect):\n",
        "  print(i,j,k)"
      ],
      "execution_count": 36,
      "outputs": [
        {
          "output_type": "stream",
          "name": "stdout",
          "text": [
            "this is 1\n",
            "is in 3\n",
            "in the 1\n",
            "the nature 1\n",
            "nature of 1\n",
            "of in 1\n",
            "in is 2\n",
            "is the 1\n",
            "the most 1\n",
            "most is 1\n",
            "in and 1\n",
            "and which 1\n"
          ]
        }
      ]
    },
    {
      "cell_type": "code",
      "metadata": {
        "colab": {
          "base_uri": "https://localhost:8080/"
        },
        "id": "DUqc9xu5bP9J",
        "outputId": "19576b70-7ab6-4ff5-ebf0-426874b83450"
      },
      "source": [
        "np.unique(indx)"
      ],
      "execution_count": 41,
      "outputs": [
        {
          "output_type": "execute_result",
          "data": {
            "text/plain": [
              "array(['and', 'in', 'is', 'most', 'nature', 'of', 'the', 'this'],\n",
              "      dtype='<U6')"
            ]
          },
          "metadata": {},
          "execution_count": 41
        }
      ]
    },
    {
      "cell_type": "code",
      "metadata": {
        "id": "tmjvS1jrZvGg"
      },
      "source": [
        "word_freq = {}\n",
        "for w in np.unique(indx):\n",
        "  word_freq[w] = cnt_vect[indx==w].sum()"
      ],
      "execution_count": 44,
      "outputs": []
    },
    {
      "cell_type": "code",
      "metadata": {
        "colab": {
          "base_uri": "https://localhost:8080/"
        },
        "id": "-lgereIxnjFb",
        "outputId": "7c756a0b-1d3f-40a7-b948-48f4ed40d15d"
      },
      "source": [
        "word_freq"
      ],
      "execution_count": 45,
      "outputs": [
        {
          "output_type": "execute_result",
          "data": {
            "text/plain": [
              "{'and': 1,\n",
              " 'in': 4,\n",
              " 'is': 4,\n",
              " 'most': 1,\n",
              " 'nature': 1,\n",
              " 'of': 1,\n",
              " 'the': 2,\n",
              " 'this': 1}"
            ]
          },
          "metadata": {},
          "execution_count": 45
        }
      ]
    },
    {
      "cell_type": "code",
      "metadata": {
        "id": "SpkBQSburZYi"
      },
      "source": [
        "def renormalize_mtx(indx, jndx, cnt_vect):\n",
        "  \"\"\" Renormalize given sparse transition matrix\n",
        "  \"\"\"\n",
        "  indx_unique_freq = {}\n",
        "  for w in np.unique(indx):\n",
        "    indx_unique_freq[w] = cnt_vect[indx==w].sum()\n",
        "\n",
        "  cnt_renorm = np.zeros(cnt_vect.shape, float)\n",
        "  for i,w in enumerate(indx):\n",
        "    cnt_renorm[i] = cnt_vect[i]/indx_unique_freq[w]\n",
        "\n",
        "  return indx, jndx, cnt_renorm"
      ],
      "execution_count": 48,
      "outputs": []
    },
    {
      "cell_type": "code",
      "metadata": {
        "colab": {
          "base_uri": "https://localhost:8080/"
        },
        "id": "RJZ8LFiessWM",
        "outputId": "c55afa74-a54b-44a7-a587-58681d9fdd7e"
      },
      "source": [
        "_, _ , vect_renomr = renormalize_mtx(indx, jndx, cnt_vect)\n",
        "\n",
        "for v, w in zip(cnt_vect, vect_renomr):\n",
        "  print(v,w)"
      ],
      "execution_count": 50,
      "outputs": [
        {
          "output_type": "stream",
          "name": "stdout",
          "text": [
            "1 1.0\n",
            "3 0.75\n",
            "1 0.25\n",
            "1 0.5\n",
            "1 1.0\n",
            "1 1.0\n",
            "2 0.5\n",
            "1 0.25\n",
            "1 0.5\n",
            "1 1.0\n",
            "1 0.25\n",
            "1 1.0\n"
          ]
        }
      ]
    },
    {
      "cell_type": "code",
      "metadata": {
        "id": "EZGteSZoq2PV"
      },
      "source": [
        "def extract_markov_transition(events: list, mk_len = 2):\n",
        "  \"\"\" Evaluate transition probability for a list of events\n",
        "  \"\"\"\n",
        "  assert mk_len == 2\n",
        "  # Evaluate transition counts\n",
        "  dict_text = markov_dict_extractor(events, mk_len=2)\n",
        "  word_counts = markov_dict_extractor(events, mk_len=1)\n",
        "  \n",
        "  trans_prob = {}\n",
        "  for k in dict_text.keys():\n",
        "    # Divide by total occurance of each keywords\n",
        "    trans_prob[k] = dict_text[k]/word_counts[(k[0],)]\n",
        "\n",
        "  return trans_prob   "
      ],
      "execution_count": 19,
      "outputs": []
    },
    {
      "cell_type": "code",
      "metadata": {
        "colab": {
          "base_uri": "https://localhost:8080/"
        },
        "id": "TE1AVcsTATq0",
        "outputId": "596501bb-098e-4b5a-f818-2e4115bfe3da"
      },
      "source": [
        "extract_markov_transition(some_text.lower().rstrip().split())"
      ],
      "execution_count": 20,
      "outputs": [
        {
          "output_type": "execute_result",
          "data": {
            "text/plain": [
              "{('adult', 'females'): 0.6666666666666666,\n",
              " ('adult', 'male'): 0.3333333333333333,\n",
              " ('alone', 'or'): 1.0,\n",
              " ('also', 'bite'): 1.0,\n",
              " ('an', 'adult'): 1.0,\n",
              " ('and', 'can'): 0.125,\n",
              " ('and', 'facial'): 0.125,\n",
              " ('and', 'kick.'): 0.125,\n",
              " ('and', 'mountain'): 0.25,\n",
              " ('and', 'the'): 0.125,\n",
              " ('and', 'their'): 0.125,\n",
              " ('and', 'typically'): 0.125,\n",
              " ('are', 'preyed'): 0.5,\n",
              " ('are', 'primarily'): 0.5,\n",
              " ('associated', 'herds.'): 1.0,\n",
              " ('attract', 'females'): 1.0,\n",
              " ('behaviour,', 'with'): 1.0,\n",
              " ('bite', 'and'): 1.0,\n",
              " ('body', 'postures'): 1.0,\n",
              " ('bonds', 'in'): 1.0,\n",
              " ('but', 'also'): 1.0,\n",
              " ('by', 'lions'): 1.0,\n",
              " ('can', 'subsist'): 1.0,\n",
              " ('communicate', 'with'): 1.0,\n",
              " ('consisting', 'of'): 1.0,\n",
              " ('differ', 'in'): 1.0,\n",
              " ('establish', 'territories'): 1.0,\n",
              " ('expressions.', 'social'): 1.0,\n",
              " ('facial', 'expressions.'): 1.0,\n",
              " ('females', 'and'): 0.3333333333333333,\n",
              " ('females', 'mate'): 0.3333333333333333,\n",
              " ('females', 'or'): 0.3333333333333333,\n",
              " ('flee', 'when'): 1.0,\n",
              " ('foals;', 'while'): 1.0,\n",
              " ('grazers', 'and'): 1.0,\n",
              " ('grooming', 'strengthens'): 1.0,\n",
              " (\"grévy's\", 'zebra'): 0.5,\n",
              " (\"grévy's\", 'zebras'): 0.5,\n",
              " ('harem', 'stallion,'): 1.0,\n",
              " ('harem-holding', 'species,'): 1.0,\n",
              " ('harems', 'consisting'): 1.0,\n",
              " ('herds.', 'in'): 1.0,\n",
              " ('in', 'harem-holding'): 0.2,\n",
              " ('in', 'loosely'): 0.2,\n",
              " ('in', 'plains'): 0.2,\n",
              " ('in', 'social'): 0.2,\n",
              " ('in', 'stable'): 0.2,\n",
              " ('is', 'promiscuous.'): 1.0,\n",
              " ('kick.', 'zebra'): 1.0,\n",
              " ('lions', 'and'): 1.0,\n",
              " ('live', 'alone'): 1.0,\n",
              " ('living', 'in'): 1.0,\n",
              " ('loosely', 'associated'): 1.0,\n",
              " ('lower-quality', 'vegetation.'): 1.0,\n",
              " ('mainly', 'by'): 1.0,\n",
              " ('male', \"grévy's\"): 0.5,\n",
              " ('male', 'or'): 0.5,\n",
              " ('mares,', 'and'): 1.0,\n",
              " ('mate', 'only'): 1.0,\n",
              " ('mountain', 'zebra'): 0.5,\n",
              " ('mountain', 'zebras.'): 0.5,\n",
              " ('of', 'an'): 1.0,\n",
              " ('on', 'lower-quality'): 0.5,\n",
              " ('on', 'mainly'): 0.5,\n",
              " ('only', 'with'): 1.0,\n",
              " ('or', 'foals;'): 0.25,\n",
              " ('or', 'in'): 0.25,\n",
              " ('or', 'mares,'): 0.25,\n",
              " ('or', 'stallion,'): 0.25,\n",
              " ('plains', 'and'): 1.0,\n",
              " ('postures', 'and'): 1.0,\n",
              " ('preyed', 'on'): 1.0,\n",
              " ('primarily', 'grazers'): 1.0,\n",
              " ('promiscuous.', 'zebras'): 1.0,\n",
              " ('several', 'adult'): 1.0,\n",
              " ('social', 'behaviour,'): 0.3333333333333333,\n",
              " ('social', 'bonds'): 0.3333333333333333,\n",
              " ('social', 'grooming'): 0.3333333333333333,\n",
              " ('species', 'differ'): 0.5,\n",
              " ('species', 'is'): 0.5,\n",
              " ('species,', 'adult'): 1.0,\n",
              " ('stable', 'harems'): 1.0,\n",
              " ('stallion,', 'several'): 0.5,\n",
              " ('stallion,', 'while'): 0.5,\n",
              " ('strengthens', 'social'): 1.0,\n",
              " ('subsist', 'on'): 1.0,\n",
              " ('territories', 'which'): 1.0,\n",
              " ('the', 'species'): 1.0,\n",
              " ('their', 'harem'): 0.5,\n",
              " ('their', 'young'): 0.5,\n",
              " ('they', 'are'): 1.0,\n",
              " ('threatened', 'but'): 1.0,\n",
              " ('typically', 'flee'): 1.0,\n",
              " ('various', 'vocalisations,'): 1.0,\n",
              " ('vegetation.', 'they'): 1.0,\n",
              " ('vocalisations,', 'body'): 1.0,\n",
              " ('when', 'threatened'): 1.0,\n",
              " ('which', 'attract'): 1.0,\n",
              " ('while', \"grévy's\"): 0.5,\n",
              " ('while', 'male'): 0.5,\n",
              " ('with', 'plains'): 0.3333333333333333,\n",
              " ('with', 'their'): 0.3333333333333333,\n",
              " ('with', 'various'): 0.3333333333333333,\n",
              " ('young', 'or'): 1.0,\n",
              " ('zebra', 'live'): 0.3333333333333333,\n",
              " ('zebra', 'living'): 0.3333333333333333,\n",
              " ('zebra', 'species'): 0.3333333333333333,\n",
              " ('zebras', 'are'): 0.3333333333333333,\n",
              " ('zebras', 'communicate'): 0.3333333333333333,\n",
              " ('zebras', 'establish'): 0.3333333333333333}"
            ]
          },
          "metadata": {},
          "execution_count": 20
        }
      ]
    },
    {
      "cell_type": "code",
      "metadata": {
        "id": "LaD4B5gjJV7h"
      },
      "source": [
        ""
      ],
      "execution_count": 1,
      "outputs": []
    },
    {
      "cell_type": "code",
      "metadata": {
        "id": "epDvzcnhYg6f"
      },
      "source": [
        ""
      ],
      "execution_count": null,
      "outputs": []
    }
  ]
}