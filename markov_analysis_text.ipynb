{
 "cells": [
  {
   "cell_type": "markdown",
   "metadata": {
    "id": "ZRMwTPdnL1aL"
   },
   "source": [
    "### TODO:\n",
    "- [X] function to standardize a count sparse matrix\n",
    "  \n",
    "Later when we have transition matrix (TM) for the whole corpus and TM for a single data point to take the difference the sub matrix must renormalized again.\n",
    "\n",
    "- [ ] import `imdb` data from keras (it is been already converted to integer indices). Concatenate all entries to large text (corpus)\n",
    "- [ ] apply markov transition counter to both corpus and every entry separately.  "
   ]
  },
  {
   "cell_type": "code",
   "execution_count": 1,
   "metadata": {
    "id": "Hd5hI96BlcFI"
   },
   "outputs": [],
   "source": [
    "import numpy as np\n",
    "from tensorflow import keras\n",
    "import sys\n",
    "\n",
    "sys.path.append('../')\n",
    "\n",
    "from utils.markov import markov_dict_extractor, \\\n",
    "                         get_vocabs_dict, \\\n",
    "                         transition_mtx_to_sparse, \\\n",
    "                         renormalize_mtx, \\\n",
    "                         extract_markov_transition"
   ]
  },
  {
   "cell_type": "code",
   "execution_count": null,
   "metadata": {
    "id": "iQjNebqOs0NL"
   },
   "outputs": [],
   "source": [
    "### method to extract the Markov transition matrix\n",
    "def shift(in_tup, element):\n",
    "    return in_tup[1:] + (element,)\n",
    "\n",
    "def markov_dict_extractor(events: list, mk_len = 2):\n",
    "  \"\"\" Count number of transition from state `w_i` to `w_i+1`. Calculate the \n",
    "  transition probabilities for available states.\n",
    "\n",
    "  input:\n",
    "  ------\n",
    "  events: list, sequence of states\n",
    "  mk_len: int, number of states gathered\n",
    "\n",
    "  output:\n",
    "  -------\n",
    "  transition_dict: dict of tuples: count transition from one state to another.\n",
    "  transition_norm: dict of tuples: transition rate (prob.)\n",
    "\n",
    "  TODO:\n",
    "  - the norm is not correct, the sum of prob. in each columns and rows\n",
    "  must be one.\n",
    "  - a function that convert the transition dictionary to a sparse matrix \n",
    "  representation with dictionary of indx and jndx to corresponding words.\n",
    "  \"\"\"\n",
    "  events.append('EMPTY') # to count the last element as well\n",
    "  transition_dic = {}\n",
    "  pre = ()\n",
    "  for event in events:\n",
    "      if len(pre) < mk_len:\n",
    "          pre +=  (event,)\n",
    "      else:\n",
    "          try:\n",
    "              transition_dic[pre] += 1\n",
    "          except: \n",
    "              transition_dic[pre] = 1\n",
    "          pre = shift(pre, event)\n",
    "          \n",
    "          \n",
    "  return transition_dic\n",
    "\n",
    "def get_vocabs_dict(text: str, lowercase=True):\n",
    "  \"\"\" Get vocaburaly of the text\n",
    "\n",
    "    - convert it to lower case\n",
    "  \"\"\"\n",
    "  vocaburaly = set(text.lower().split())\n",
    "  # reserve 0 for unknown vocab in the text\n",
    "  vocab_dict = {v:i for v,i in zip(vocaburaly, range(1, len(vocaburaly)+1))}\n",
    "  return vocab_dict\n"
   ]
  },
  {
   "cell_type": "code",
   "execution_count": null,
   "metadata": {
    "id": "scUvfsnIrrkV"
   },
   "outputs": [],
   "source": [
    "# sparse representation of transition matrix\n",
    "def transition_mtx_to_sparse(trans_dict: dict, mk_len=2):\n",
    "  \"\"\" Extract i-index, j-index and value transition \n",
    "  from transition dict \n",
    "  \"\"\"\n",
    "  if mk_len == 2:\n",
    "    indx = [c[0] for c in trans_dict.keys()]\n",
    "    jndx = [c[1] for c in trans_dict.keys()]\n",
    "    cnt_vect = [v for v in trans_dict.values()] \n",
    "  elif mk_len == 1:\n",
    "    indx = [c[0] for c in trans_dict.keys()]\n",
    "    jndx = []\n",
    "    cnt_vect = [v for v in trans_dict.values()]\n",
    "  else:\n",
    "    print(\"order of markov unit must be <= 2 !\")\n",
    "\n",
    "  return np.array(indx), np.array(jndx), np.array(cnt_vect)"
   ]
  },
  {
   "cell_type": "code",
   "execution_count": null,
   "metadata": {
    "id": "SpkBQSburZYi"
   },
   "outputs": [],
   "source": [
    "def renormalize_mtx(indx, jndx, cnt_vect):\n",
    "  \"\"\" Renormalize given sparse transition matrix\n",
    "  \"\"\"\n",
    "  indx_unique_freq = {}\n",
    "  for w in np.unique(indx):\n",
    "    indx_unique_freq[w] = cnt_vect[indx==w].sum()\n",
    "\n",
    "  cnt_renorm = np.zeros(cnt_vect.shape, float)\n",
    "  for i,w in enumerate(indx):\n",
    "    cnt_renorm[i] = cnt_vect[i]/indx_unique_freq[w]\n",
    "\n",
    "  return indx, jndx, cnt_renorm"
   ]
  },
  {
   "cell_type": "code",
   "execution_count": null,
   "metadata": {
    "id": "EZGteSZoq2PV"
   },
   "outputs": [],
   "source": [
    "def extract_markov_transition(events: list, mk_len = 2):\n",
    "  \"\"\" Evaluate transition probability for a list of events\n",
    "  \"\"\"\n",
    "  assert mk_len == 2\n",
    "  # Evaluate transition counts\n",
    "  dict_text = markov_dict_extractor(events, mk_len=2)\n",
    "  word_counts = markov_dict_extractor(events, mk_len=1)\n",
    "  \n",
    "  trans_prob = {}\n",
    "  for k in dict_text.keys():\n",
    "    # Divide by total occurance of each keywords\n",
    "    trans_prob[k] = dict_text[k]/word_counts[(k[0],)]\n",
    "\n",
    "  return trans_prob   "
   ]
  },
  {
   "cell_type": "code",
   "execution_count": 66,
   "metadata": {},
   "outputs": [],
   "source": [
    "def get_overlap_sparse_mtx(indx, jndx, cnt_vect, \n",
    "                          sub_indx, sub_jndx):\n",
    "    \"\"\" To get the subset of original matrix for given indx and jndx\n",
    "    \"\"\"\n",
    "    ov_indx = []\n",
    "    ov_jndx = []\n",
    "    ov_cnt = []\n",
    "    for i,j in zip(k,l):\n",
    "        if np.sum((a == i) & (b == j)) == 1:\n",
    "            ov_indx.append(a[a == i][0])\n",
    "            ov_jndx.append(b[b == j][0])\n",
    "            ov_cnt.append(c[(a == i) & (b == j)][0])\n",
    "            \n",
    "    return np.array(ov_indx), np.array(ov_jndx), np.array(ov_cnt)\n",
    "    "
   ]
  },
  {
   "cell_type": "code",
   "execution_count": 68,
   "metadata": {},
   "outputs": [
    {
     "data": {
      "text/plain": [
       "(array([2, 3]), array([3, 4]), array([23, 24]))"
      ]
     },
     "execution_count": 68,
     "metadata": {},
     "output_type": "execute_result"
    }
   ],
   "source": [
    "a = np.array([1,2,3,4,5,6,7])\n",
    "b = np.array([2,3,4,6,4,5,6])\n",
    "c = np.array([12,23,24,25,25,25,45])\n",
    "k = np.array([2,3])\n",
    "l = np.array([3,4])\n",
    "\n",
    "get_overlap_sparse_mtx(a, b, c,\n",
    "                       k, l)"
   ]
  },
  {
   "cell_type": "code",
   "execution_count": 2,
   "metadata": {
    "id": "A0xuSqMvppdF"
   },
   "outputs": [],
   "source": [
    "some_text = \"\"\"Zebras are primarily grazers and can subsist on lower-quality \n",
    "            vegetation. They are preyed on mainly by lions and typically flee \n",
    "            when threatened but also bite and kick. Zebra species differ in \n",
    "            social behaviour, with plains and mountain zebra living in stable \n",
    "            harems consisting of an adult male or stallion, several adult \n",
    "            females or mares, and their young or foals; while Grévy's zebra \n",
    "            live alone or in loosely associated herds. In harem-holding species, \n",
    "            adult females mate only with their harem stallion, while male \n",
    "            Grévy's zebras establish territories which attract females and the \n",
    "            species is promiscuous. Zebras communicate with various \n",
    "            vocalisations, body postures and facial expressions. Social \n",
    "            grooming strengthens social bonds in plains and mountain zebras.\n",
    "            \"\"\""
   ]
  },
  {
   "cell_type": "code",
   "execution_count": 3,
   "metadata": {
    "id": "1bkrgAKJth1G"
   },
   "outputs": [],
   "source": [
    "transition_dict = markov_dict_extractor(some_text.lower().rstrip().split())"
   ]
  },
  {
   "cell_type": "code",
   "execution_count": 4,
   "metadata": {
    "colab": {
     "base_uri": "https://localhost:8080/"
    },
    "id": "fdDJKkKu4xV3",
    "outputId": "61a5bdd6-1d43-486d-f708-de9dc4d24d7e"
   },
   "outputs": [
    {
     "data": {
      "text/plain": [
       "78"
      ]
     },
     "execution_count": 4,
     "metadata": {},
     "output_type": "execute_result"
    }
   ],
   "source": [
    "len(get_vocabs_dict(some_text))"
   ]
  },
  {
   "cell_type": "code",
   "execution_count": 5,
   "metadata": {
    "id": "xFuMbqLOrYMx"
   },
   "outputs": [],
   "source": [
    "sub_text = \"\"\" Zebras communicate with various \n",
    "            vocalisations, body postures and facial expressions\n",
    "            \"\"\""
   ]
  },
  {
   "cell_type": "code",
   "execution_count": 6,
   "metadata": {
    "id": "ghuBXAgipQnA"
   },
   "outputs": [],
   "source": [
    "sub_dict = markov_dict_extractor(some_text.lower().rstrip().split(), mk_len=2)\n",
    "sub_dict_1 = markov_dict_extractor(some_text.lower().rstrip().split(), mk_len=1)"
   ]
  },
  {
   "cell_type": "code",
   "execution_count": 7,
   "metadata": {
    "colab": {
     "base_uri": "https://localhost:8080/"
    },
    "id": "R-Ljg0yMsBcb",
    "outputId": "28dd7d21-3bee-4fa2-f9aa-86ab9fd0a9a3"
   },
   "outputs": [
    {
     "data": {
      "text/plain": [
       "dict_keys([('zebras', 'are'), ('are', 'primarily'), ('primarily', 'grazers'), ('grazers', 'and'), ('and', 'can'), ('can', 'subsist'), ('subsist', 'on'), ('on', 'lower-quality'), ('lower-quality', 'vegetation.'), ('vegetation.', 'they'), ('they', 'are'), ('are', 'preyed'), ('preyed', 'on'), ('on', 'mainly'), ('mainly', 'by'), ('by', 'lions'), ('lions', 'and'), ('and', 'typically'), ('typically', 'flee'), ('flee', 'when'), ('when', 'threatened'), ('threatened', 'but'), ('but', 'also'), ('also', 'bite'), ('bite', 'and'), ('and', 'kick.'), ('kick.', 'zebra'), ('zebra', 'species'), ('species', 'differ'), ('differ', 'in'), ('in', 'social'), ('social', 'behaviour,'), ('behaviour,', 'with'), ('with', 'plains'), ('plains', 'and'), ('and', 'mountain'), ('mountain', 'zebra'), ('zebra', 'living'), ('living', 'in'), ('in', 'stable'), ('stable', 'harems'), ('harems', 'consisting'), ('consisting', 'of'), ('of', 'an'), ('an', 'adult'), ('adult', 'male'), ('male', 'or'), ('or', 'stallion,'), ('stallion,', 'several'), ('several', 'adult'), ('adult', 'females'), ('females', 'or'), ('or', 'mares,'), ('mares,', 'and'), ('and', 'their'), ('their', 'young'), ('young', 'or'), ('or', 'foals;'), ('foals;', 'while'), ('while', \"grévy's\"), (\"grévy's\", 'zebra'), ('zebra', 'live'), ('live', 'alone'), ('alone', 'or'), ('or', 'in'), ('in', 'loosely'), ('loosely', 'associated'), ('associated', 'herds.'), ('herds.', 'in'), ('in', 'harem-holding'), ('harem-holding', 'species,'), ('species,', 'adult'), ('females', 'mate'), ('mate', 'only'), ('only', 'with'), ('with', 'their'), ('their', 'harem'), ('harem', 'stallion,'), ('stallion,', 'while'), ('while', 'male'), ('male', \"grévy's\"), (\"grévy's\", 'zebras'), ('zebras', 'establish'), ('establish', 'territories'), ('territories', 'which'), ('which', 'attract'), ('attract', 'females'), ('females', 'and'), ('and', 'the'), ('the', 'species'), ('species', 'is'), ('is', 'promiscuous.'), ('promiscuous.', 'zebras'), ('zebras', 'communicate'), ('communicate', 'with'), ('with', 'various'), ('various', 'vocalisations,'), ('vocalisations,', 'body'), ('body', 'postures'), ('postures', 'and'), ('and', 'facial'), ('facial', 'expressions.'), ('expressions.', 'social'), ('social', 'grooming'), ('grooming', 'strengthens'), ('strengthens', 'social'), ('social', 'bonds'), ('bonds', 'in'), ('in', 'plains'), ('mountain', 'zebras.')])"
      ]
     },
     "execution_count": 7,
     "metadata": {},
     "output_type": "execute_result"
    }
   ],
   "source": [
    "sub_dict.keys()"
   ]
  },
  {
   "cell_type": "code",
   "execution_count": 8,
   "metadata": {
    "colab": {
     "base_uri": "https://localhost:8080/"
    },
    "id": "zf-ejqagsJU4",
    "outputId": "0e35afc0-b943-4ad5-ebb8-703f287240bd"
   },
   "outputs": [
    {
     "name": "stdout",
     "output_type": "stream",
     "text": [
      "110 110 110\n"
     ]
    }
   ],
   "source": [
    "indx, jndx, cnt_vect = transition_mtx_to_sparse(sub_dict, mk_len=2)\n",
    "words, _, counts = transition_mtx_to_sparse(sub_dict_1, mk_len=1)\n",
    "print(len(indx), len(jndx), len(cnt_vect))\n",
    "word_counts = dict(zip(words, counts))"
   ]
  },
  {
   "cell_type": "markdown",
   "metadata": {
    "id": "T7sqvoyk6w7x"
   },
   "source": [
    "\\begin{array}{cccccccccc}\n",
    "      & and & in & is & most & nature & of & the & this & which\\\\\n",
    "and   & 0   & 0  & 0  & 0    & 0      & 0  & 0   & 0    & 1\\\\\n",
    "in    & 1   & 0  & 2  & 0    & 0      & 0  & 1   & 0    & 0\\\\\n",
    "is    & 0   & 3  & 0  & 0    & 0      & 0  & 1   & 0    & 0\\\\\n",
    "most  & 0   & 0  & 1  & 0    & 0      & 0  & 0   & 0    & 0\\\\\n",
    "nature& 0   & 0  & 0  & 0    & 0      & 1  & 0   & 0    & 0\\\\\n",
    "of    & 0   & 1  & 0  & 0    & 0      & 0  & 0   & 0    & 0\\\\\n",
    "the   & 0   & 0  & 0  & 1    & 1      & 0  & 0   & 0    & 0\\\\\n",
    "this  & 0   & 0  & 1  & 0    & 0      & 0  & 0   & 0    & 0\\\\\n",
    "which & 0   & 0  & 0  & 0    & 0      & 0  & 0   & 0    & 0 \n",
    "\\end{array}"
   ]
  },
  {
   "cell_type": "code",
   "execution_count": 9,
   "metadata": {
    "colab": {
     "base_uri": "https://localhost:8080/"
    },
    "id": "Yl6GQ2darIXO",
    "outputId": "890f0688-7ea6-4898-cf98-211253530cbb"
   },
   "outputs": [
    {
     "name": "stdout",
     "output_type": "stream",
     "text": [
      "{('this', 'is'): 1, ('is', 'in'): 3, ('in', 'the'): 1, ('the', 'nature'): 1, ('nature', 'of'): 1, ('of', 'in'): 1, ('in', 'is'): 2, ('is', 'the'): 1, ('the', 'most'): 1, ('most', 'is'): 1, ('in', 'and'): 1, ('and', 'which'): 1}\n"
     ]
    }
   ],
   "source": [
    "text = 'this is in the nature of in is the most is in is in and which'\n",
    "dict_text = markov_dict_extractor(text.rstrip().split())\n",
    "word_counts = markov_dict_extractor(text.rstrip().split(), 1)\n",
    "indx, jndx, cnt_vect = transition_mtx_to_sparse(dict_text, mk_len=2)\n",
    "## dict_text\n",
    "# {('and', 'which'): 1,\n",
    "#  ('in', 'and'): 1,\n",
    "#  ('in', 'is'): 2,\n",
    "#  ('in', 'the'): 1,\n",
    "#  ('is', 'in'): 3,\n",
    "#  ('is', 'the'): 1,\n",
    "#  ('most', 'is'): 1,\n",
    "#  ('nature', 'of'): 1,\n",
    "#  ('of', 'in'): 1,\n",
    "#  ('the', 'most'): 1,\n",
    "#  ('the', 'nature'): 1,\n",
    "#  ('this', 'is'): 1}\n",
    "print(dict_text)\n",
    "## word_counts\n",
    "# {('and',): 1,\n",
    "#  ('in',): 4,\n",
    "#  ('is',): 4,\n",
    "#  ('most',): 1,\n",
    "#  ('nature',): 1,\n",
    "#  ('of',): 1,\n",
    "#  ('the',): 2,\n",
    "#  ('this',): 1,\n",
    "#  ('which',): 1}"
   ]
  },
  {
   "cell_type": "code",
   "execution_count": 10,
   "metadata": {
    "colab": {
     "base_uri": "https://localhost:8080/"
    },
    "id": "RJZ8LFiessWM",
    "outputId": "c55afa74-a54b-44a7-a587-58681d9fdd7e"
   },
   "outputs": [
    {
     "name": "stdout",
     "output_type": "stream",
     "text": [
      "1 1.0\n",
      "3 0.75\n",
      "1 0.25\n",
      "1 0.5\n",
      "1 1.0\n",
      "1 1.0\n",
      "2 0.5\n",
      "1 0.25\n",
      "1 0.5\n",
      "1 1.0\n",
      "1 0.25\n",
      "1 1.0\n"
     ]
    }
   ],
   "source": [
    "_, _ , vect_renomr = renormalize_mtx(indx, jndx, cnt_vect)\n",
    "\n",
    "for v, w in zip(cnt_vect, vect_renomr):\n",
    "  print(v,w)"
   ]
  },
  {
   "cell_type": "code",
   "execution_count": 12,
   "metadata": {
    "colab": {
     "base_uri": "https://localhost:8080/"
    },
    "id": "TE1AVcsTATq0",
    "outputId": "596501bb-098e-4b5a-f818-2e4115bfe3da"
   },
   "outputs": [
    {
     "name": "stderr",
     "output_type": "stream",
     "text": [
      "/Users/cm-amin/anaconda3/lib/python3.7/site-packages/tensorflow_core/python/keras/datasets/imdb.py:129: VisibleDeprecationWarning: Creating an ndarray from ragged nested sequences (which is a list-or-tuple of lists-or-tuples-or ndarrays with different lengths or shapes) is deprecated. If you meant to do this, you must specify 'dtype=object' when creating the ndarray\n",
      "  x_train, y_train = np.array(xs[:idx]), np.array(labels[:idx])\n",
      "/Users/cm-amin/anaconda3/lib/python3.7/site-packages/tensorflow_core/python/keras/datasets/imdb.py:130: VisibleDeprecationWarning: Creating an ndarray from ragged nested sequences (which is a list-or-tuple of lists-or-tuples-or ndarrays with different lengths or shapes) is deprecated. If you meant to do this, you must specify 'dtype=object' when creating the ndarray\n",
      "  x_test, y_test = np.array(xs[idx:]), np.array(labels[idx:])\n"
     ]
    }
   ],
   "source": [
    "(x_train, y_train), (x_test, y_test) = keras.datasets.imdb.load_data()"
   ]
  },
  {
   "cell_type": "code",
   "execution_count": 15,
   "metadata": {},
   "outputs": [
    {
     "data": {
      "text/plain": [
       "218"
      ]
     },
     "execution_count": 15,
     "metadata": {},
     "output_type": "execute_result"
    }
   ],
   "source": [
    "len(x_train[0])"
   ]
  },
  {
   "cell_type": "code",
   "execution_count": 17,
   "metadata": {},
   "outputs": [],
   "source": [
    "corpus = []\n",
    "\n",
    "for l in x_train:\n",
    "    corpus += l"
   ]
  },
  {
   "cell_type": "code",
   "execution_count": 22,
   "metadata": {},
   "outputs": [
    {
     "data": {
      "text/plain": [
       "5967842"
      ]
     },
     "execution_count": 22,
     "metadata": {},
     "output_type": "execute_result"
    }
   ],
   "source": [
    "len(corpus)"
   ]
  },
  {
   "cell_type": "code",
   "execution_count": 20,
   "metadata": {},
   "outputs": [],
   "source": [
    "imdb_mk_dict = markov_dict_extractor(corpus, mk_len=2)"
   ]
  },
  {
   "cell_type": "code",
   "execution_count": 21,
   "metadata": {},
   "outputs": [
    {
     "data": {
      "text/plain": [
       "1443298"
      ]
     },
     "execution_count": 21,
     "metadata": {},
     "output_type": "execute_result"
    }
   ],
   "source": [
    "len(imdb_mk_dict)"
   ]
  },
  {
   "cell_type": "code",
   "execution_count": 25,
   "metadata": {},
   "outputs": [
    {
     "data": {
      "text/plain": [
       "102"
      ]
     },
     "execution_count": 25,
     "metadata": {},
     "output_type": "execute_result"
    }
   ],
   "source": [
    "imdb_mk_dict[(1,43)]"
   ]
  },
  {
   "cell_type": "code",
   "execution_count": 38,
   "metadata": {},
   "outputs": [],
   "source": [
    "mk_per_entries = np.empty((x_train.shape[0]), object)"
   ]
  },
  {
   "cell_type": "code",
   "execution_count": 39,
   "metadata": {},
   "outputs": [
    {
     "data": {
      "text/plain": [
       "25000"
      ]
     },
     "execution_count": 39,
     "metadata": {},
     "output_type": "execute_result"
    }
   ],
   "source": [
    "x_train.shape[0]"
   ]
  },
  {
   "cell_type": "code",
   "execution_count": 41,
   "metadata": {},
   "outputs": [],
   "source": [
    "for i, entry in enumerate(x_train):\n",
    "    mk_per_entries[i] = markov_dict_extractor(entry, mk_len=2)"
   ]
  },
  {
   "cell_type": "code",
   "execution_count": 42,
   "metadata": {},
   "outputs": [
    {
     "data": {
      "text/plain": [
       "(25000,)"
      ]
     },
     "execution_count": 42,
     "metadata": {},
     "output_type": "execute_result"
    }
   ],
   "source": [
    "mk_per_entries.shape"
   ]
  },
  {
   "cell_type": "code",
   "execution_count": null,
   "metadata": {},
   "outputs": [],
   "source": []
  }
 ],
 "metadata": {
  "colab": {
   "authorship_tag": "ABX9TyP6TK2LKTl+BhRBdGMJiRhi",
   "collapsed_sections": [],
   "include_colab_link": true,
   "name": "markov_analysis_text.ipynb",
   "provenance": []
  },
  "kernelspec": {
   "display_name": "Python 3 (ipykernel)",
   "language": "python",
   "name": "python3"
  },
  "language_info": {
   "codemirror_mode": {
    "name": "ipython",
    "version": 3
   },
   "file_extension": ".py",
   "mimetype": "text/x-python",
   "name": "python",
   "nbconvert_exporter": "python",
   "pygments_lexer": "ipython3",
   "version": "3.7.6"
  }
 },
 "nbformat": 4,
 "nbformat_minor": 4
}
