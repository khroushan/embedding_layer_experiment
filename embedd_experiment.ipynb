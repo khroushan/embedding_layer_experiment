{
  "nbformat": 4,
  "nbformat_minor": 0,
  "metadata": {
    "colab": {
      "name": "Untitled1.ipynb",
      "provenance": [],
      "collapsed_sections": [],
      "authorship_tag": "ABX9TyOCL/fxap+u0/nNEcfi8f2x"
    },
    "kernelspec": {
      "name": "python3",
      "display_name": "Python 3"
    },
    "language_info": {
      "name": "python"
    }
  },
  "cells": [
    {
      "cell_type": "code",
      "metadata": {
        "id": "J5y3pH226L4T"
      },
      "source": [
        ""
      ],
      "execution_count": null,
      "outputs": []
    },
    {
      "cell_type": "markdown",
      "metadata": {
        "id": "xXnZ1-LX6g-B"
      },
      "source": [
        "## Evolution of Embedding Layer\n",
        "\n",
        "### TODO:\n",
        "- [ ] Add callback \n",
        "- [ ] Store training steps\n",
        "- [ ] Extract embedding weights\n",
        "- [ ] Calculate SVD\n",
        "- [ ] Project it on some human percivable space\n",
        "- [ ] Present the evolution (rotation) of vectors"
      ]
    },
    {
      "cell_type": "code",
      "metadata": {
        "id": "TCvFOv_qOhZn"
      },
      "source": [
        "import tensorflow as tf\n",
        "from tensorflow import keras\n",
        "from keras import layers\n",
        "\n",
        "import numpy as np"
      ],
      "execution_count": 1,
      "outputs": []
    },
    {
      "cell_type": "code",
      "metadata": {
        "id": "sPZZ-F5MOp6w",
        "colab": {
          "base_uri": "https://localhost:8080/"
        },
        "outputId": "71147f75-6dbb-4be9-f058-c2db6db3a94a"
      },
      "source": [
        "num_tokens = 10000\n",
        "(x_train_raw, y_train ), (x_test_raw, y_test) = keras.datasets.imdb.load_data(num_words=num_tokens)"
      ],
      "execution_count": 2,
      "outputs": [
        {
          "output_type": "stream",
          "name": "stdout",
          "text": [
            "Downloading data from https://storage.googleapis.com/tensorflow/tf-keras-datasets/imdb.npz\n",
            "17465344/17464789 [==============================] - 0s 0us/step\n",
            "17473536/17464789 [==============================] - 0s 0us/step\n"
          ]
        }
      ]
    },
    {
      "cell_type": "code",
      "metadata": {
        "colab": {
          "base_uri": "https://localhost:8080/"
        },
        "id": "WAfm0qQghQdf",
        "outputId": "11bf07ba-d38a-4300-f45f-39d80037c1ea"
      },
      "source": [
        "words_dict = keras.datasets.imdb.get_word_index()\n",
        "len(words_dict)"
      ],
      "execution_count": 3,
      "outputs": [
        {
          "output_type": "stream",
          "name": "stdout",
          "text": [
            "Downloading data from https://storage.googleapis.com/tensorflow/tf-keras-datasets/imdb_word_index.json\n",
            "1646592/1641221 [==============================] - 0s 0us/step\n",
            "1654784/1641221 [==============================] - 0s 0us/step\n"
          ]
        },
        {
          "output_type": "execute_result",
          "data": {
            "text/plain": [
              "88584"
            ]
          },
          "metadata": {},
          "execution_count": 3
        }
      ]
    },
    {
      "cell_type": "code",
      "metadata": {
        "colab": {
          "base_uri": "https://localhost:8080/"
        },
        "id": "COfY0TLZO9zu",
        "outputId": "ad18d8e4-50db-412e-b963-d8f7b51c35d3"
      },
      "source": [
        "x_train_raw.shape, x_test_raw.shape"
      ],
      "execution_count": 4,
      "outputs": [
        {
          "output_type": "execute_result",
          "data": {
            "text/plain": [
              "((25000,), (25000,))"
            ]
          },
          "metadata": {},
          "execution_count": 4
        }
      ]
    },
    {
      "cell_type": "code",
      "metadata": {
        "colab": {
          "base_uri": "https://localhost:8080/"
        },
        "id": "eP2VAvs1UB5c",
        "outputId": "f427e069-e74e-472b-b175-e95076725800"
      },
      "source": [
        "# Entries (reviews) have different length \n",
        "len(x_train_raw[0]), len(x_train_raw[1])"
      ],
      "execution_count": 5,
      "outputs": [
        {
          "output_type": "execute_result",
          "data": {
            "text/plain": [
              "(218, 189)"
            ]
          },
          "metadata": {},
          "execution_count": 5
        }
      ]
    },
    {
      "cell_type": "code",
      "metadata": {
        "id": "4x6lASBYXUs2"
      },
      "source": [
        "max_len = 250\n",
        "x_train = keras.preprocessing.sequence.pad_sequences(x_train_raw, maxlen=max_len)\n",
        "x_test = keras.preprocessing.sequence.pad_sequences(x_test_raw, maxlen=max_len)\n"
      ],
      "execution_count": 6,
      "outputs": []
    },
    {
      "cell_type": "code",
      "metadata": {
        "colab": {
          "base_uri": "https://localhost:8080/"
        },
        "id": "ZM1h1uYXaSch",
        "outputId": "6deed956-58c3-4f73-f198-6db7c1fd3486"
      },
      "source": [
        "\n",
        "x_train.shape, x_test.shape"
      ],
      "execution_count": 7,
      "outputs": [
        {
          "output_type": "execute_result",
          "data": {
            "text/plain": [
              "((25000, 250), (25000, 250))"
            ]
          },
          "metadata": {},
          "execution_count": 7
        }
      ]
    },
    {
      "cell_type": "code",
      "metadata": {
        "id": "MFo7KNw4R1jB"
      },
      "source": [
        "# How to convert numpy array to a dataset tensor"
      ],
      "execution_count": 8,
      "outputs": []
    },
    {
      "cell_type": "code",
      "metadata": {
        "id": "6uRpg-AnYYv5"
      },
      "source": [
        "train_ds = tf.data.Dataset.from_tensor_slices ((x_train, y_train))\n",
        "test_ds = tf.data.Dataset.from_tensor_slices((x_test, y_test))\n",
        "\n",
        "train_ds = train_ds.shuffle(train_ds.cardinality())\n",
        "test_ds = test_ds.shuffle(test_ds.cardinality())\n",
        "batch_size = 32\n",
        "train_ds = train_ds.batch(batch_size)\n",
        "test_ds = test_ds.batch(batch_size)"
      ],
      "execution_count": 9,
      "outputs": []
    },
    {
      "cell_type": "code",
      "metadata": {
        "colab": {
          "base_uri": "https://localhost:8080/"
        },
        "id": "J3NKcQtgecLn",
        "outputId": "b2a58949-27e5-48ee-9832-b01e5412d102"
      },
      "source": [
        "train_ds.cardinality(), test_ds.cardinality()"
      ],
      "execution_count": 10,
      "outputs": [
        {
          "output_type": "execute_result",
          "data": {
            "text/plain": [
              "(<tf.Tensor: shape=(), dtype=int64, numpy=782>,\n",
              " <tf.Tensor: shape=(), dtype=int64, numpy=782>)"
            ]
          },
          "metadata": {},
          "execution_count": 10
        }
      ]
    },
    {
      "cell_type": "code",
      "metadata": {
        "id": "rwbHTKSwSp3g"
      },
      "source": [
        "def create_mode(max_len=max_len, \n",
        "                num_tokens=num_tokens,\n",
        "                embedding_size=16):\n",
        "  \n",
        "  \"\"\" Create a sequencial vanilla deeplearning model.\n",
        "  \"\"\"\n",
        "  inputs = layers.Input(shape=(None,), dtype=tf.int64)\n",
        "  x = layers.Embedding(num_tokens, embedding_size)(inputs)\n",
        "  x = layers.GlobalAvgPool1D()(x)\n",
        "  x = layers.Dense(units=32, activation='relu')(x)\n",
        "  x = layers.Dropout(0.2)(x)\n",
        "  outputs = layers.Dense(units=1, activation='relu')(x)\n",
        "\n",
        "  model = keras.Model(inputs=inputs, outputs=outputs)\n",
        "\n",
        "  return model"
      ],
      "execution_count": 11,
      "outputs": []
    },
    {
      "cell_type": "code",
      "metadata": {
        "id": "LzbEgmX6gXb9"
      },
      "source": [
        "model = create_mode()"
      ],
      "execution_count": 12,
      "outputs": []
    },
    {
      "cell_type": "code",
      "metadata": {
        "id": "0U1KvFOH9XoT"
      },
      "source": [
        ""
      ],
      "execution_count": 12,
      "outputs": []
    },
    {
      "cell_type": "code",
      "metadata": {
        "id": "9ryiPbmmgZgI"
      },
      "source": [
        "model.compile(optimizer='adam',\n",
        "              loss=\"binary_crossentropy\",\n",
        "              metrics=['accuracy'])"
      ],
      "execution_count": 13,
      "outputs": []
    },
    {
      "cell_type": "code",
      "metadata": {
        "colab": {
          "base_uri": "https://localhost:8080/"
        },
        "id": "gCZWiW4qik27",
        "outputId": "e312ddf0-cdb5-4b80-ebfa-70a37e870b5a"
      },
      "source": [
        "model.summary()"
      ],
      "execution_count": 14,
      "outputs": [
        {
          "output_type": "stream",
          "name": "stdout",
          "text": [
            "Model: \"model\"\n",
            "_________________________________________________________________\n",
            " Layer (type)                Output Shape              Param #   \n",
            "=================================================================\n",
            " input_1 (InputLayer)        [(None, None)]            0         \n",
            "                                                                 \n",
            " embedding (Embedding)       (None, None, 16)          160000    \n",
            "                                                                 \n",
            " global_average_pooling1d (G  (None, 16)               0         \n",
            " lobalAveragePooling1D)                                          \n",
            "                                                                 \n",
            " dense (Dense)               (None, 32)                544       \n",
            "                                                                 \n",
            " dropout (Dropout)           (None, 32)                0         \n",
            "                                                                 \n",
            " dense_1 (Dense)             (None, 1)                 33        \n",
            "                                                                 \n",
            "=================================================================\n",
            "Total params: 160,577\n",
            "Trainable params: 160,577\n",
            "Non-trainable params: 0\n",
            "_________________________________________________________________\n"
          ]
        }
      ]
    },
    {
      "cell_type": "code",
      "metadata": {
        "id": "UxYv7mO39d7o"
      },
      "source": [
        "callbacks = [\n",
        "    keras.callbacks.ModelCheckpoint(\n",
        "        filepath='path/to/my/model_{epoch}',\n",
        "        save_freq='epoch')\n",
        "]"
      ],
      "execution_count": 15,
      "outputs": []
    },
    {
      "cell_type": "code",
      "metadata": {
        "colab": {
          "base_uri": "https://localhost:8080/"
        },
        "id": "YRgD7GXugmiM",
        "outputId": "3d53cdec-dd2a-4029-feea-e492093d29e4"
      },
      "source": [
        "epochs=10\n",
        "model.fit(train_ds,\n",
        "          validation_data=test_ds,\n",
        "          epochs=epochs,\n",
        "          callbacks=callbacks)"
      ],
      "execution_count": 16,
      "outputs": [
        {
          "output_type": "stream",
          "name": "stdout",
          "text": [
            "Epoch 1/10\n",
            "780/782 [============================>.] - ETA: 0s - loss: 0.6037 - accuracy: 0.6978INFO:tensorflow:Assets written to: path/to/my/model_1/assets\n",
            "782/782 [==============================] - 8s 9ms/step - loss: 0.6034 - accuracy: 0.6980 - val_loss: 0.3835 - val_accuracy: 0.8590\n",
            "Epoch 2/10\n",
            "774/782 [============================>.] - ETA: 0s - loss: 0.3503 - accuracy: 0.8795INFO:tensorflow:Assets written to: path/to/my/model_2/assets\n",
            "782/782 [==============================] - 6s 8ms/step - loss: 0.3499 - accuracy: 0.8797 - val_loss: 0.3414 - val_accuracy: 0.8807\n",
            "Epoch 3/10\n",
            "776/782 [============================>.] - ETA: 0s - loss: 0.2855 - accuracy: 0.9072INFO:tensorflow:Assets written to: path/to/my/model_3/assets\n",
            "782/782 [==============================] - 6s 8ms/step - loss: 0.2850 - accuracy: 0.9074 - val_loss: 0.3607 - val_accuracy: 0.8822\n",
            "Epoch 4/10\n",
            "777/782 [============================>.] - ETA: 0s - loss: 0.3238 - accuracy: 0.8972INFO:tensorflow:Assets written to: path/to/my/model_4/assets\n",
            "782/782 [==============================] - 6s 8ms/step - loss: 0.3229 - accuracy: 0.8974 - val_loss: 0.3893 - val_accuracy: 0.8814\n",
            "Epoch 5/10\n",
            "777/782 [============================>.] - ETA: 0s - loss: 0.2927 - accuracy: 0.9062INFO:tensorflow:Assets written to: path/to/my/model_5/assets\n",
            "782/782 [==============================] - 6s 8ms/step - loss: 0.2920 - accuracy: 0.9064 - val_loss: 0.4189 - val_accuracy: 0.8549\n",
            "Epoch 6/10\n",
            "774/782 [============================>.] - ETA: 0s - loss: 0.2396 - accuracy: 0.9269INFO:tensorflow:Assets written to: path/to/my/model_6/assets\n",
            "782/782 [==============================] - 6s 8ms/step - loss: 0.2396 - accuracy: 0.9268 - val_loss: 0.5016 - val_accuracy: 0.8790\n",
            "Epoch 7/10\n",
            "776/782 [============================>.] - ETA: 0s - loss: 0.2172 - accuracy: 0.9371INFO:tensorflow:Assets written to: path/to/my/model_7/assets\n",
            "782/782 [==============================] - 6s 8ms/step - loss: 0.2166 - accuracy: 0.9371 - val_loss: 0.5464 - val_accuracy: 0.8763\n",
            "Epoch 8/10\n",
            "774/782 [============================>.] - ETA: 0s - loss: 0.1943 - accuracy: 0.9455INFO:tensorflow:Assets written to: path/to/my/model_8/assets\n",
            "782/782 [==============================] - 6s 8ms/step - loss: 0.1954 - accuracy: 0.9454 - val_loss: 0.6423 - val_accuracy: 0.8734\n",
            "Epoch 9/10\n",
            "782/782 [==============================] - ETA: 0s - loss: 0.2104 - accuracy: 0.9461INFO:tensorflow:Assets written to: path/to/my/model_9/assets\n",
            "782/782 [==============================] - 6s 8ms/step - loss: 0.2104 - accuracy: 0.9461 - val_loss: 0.6838 - val_accuracy: 0.8740\n",
            "Epoch 10/10\n",
            "779/782 [============================>.] - ETA: 0s - loss: 0.1772 - accuracy: 0.9547INFO:tensorflow:Assets written to: path/to/my/model_10/assets\n",
            "782/782 [==============================] - 6s 8ms/step - loss: 0.1770 - accuracy: 0.9547 - val_loss: 0.7475 - val_accuracy: 0.8695\n"
          ]
        },
        {
          "output_type": "execute_result",
          "data": {
            "text/plain": [
              "<keras.callbacks.History at 0x7fb18cf575d0>"
            ]
          },
          "metadata": {},
          "execution_count": 16
        }
      ]
    },
    {
      "cell_type": "code",
      "metadata": {
        "id": "dYw0tO-kguYC",
        "colab": {
          "base_uri": "https://localhost:8080/",
          "height": 334
        },
        "outputId": "12141fc3-465c-4f84-936f-e1de8a5a33fb"
      },
      "source": [
        "embed_l = model.get_layer('embedding_5')"
      ],
      "execution_count": 17,
      "outputs": [
        {
          "output_type": "error",
          "ename": "ValueError",
          "evalue": "ignored",
          "traceback": [
            "\u001b[0;31m---------------------------------------------------------------------------\u001b[0m",
            "\u001b[0;31mValueError\u001b[0m                                Traceback (most recent call last)",
            "\u001b[0;32m<ipython-input-17-28c07e927a80>\u001b[0m in \u001b[0;36m<module>\u001b[0;34m()\u001b[0m\n\u001b[0;32m----> 1\u001b[0;31m \u001b[0membed_l\u001b[0m \u001b[0;34m=\u001b[0m \u001b[0mmodel\u001b[0m\u001b[0;34m.\u001b[0m\u001b[0mget_layer\u001b[0m\u001b[0;34m(\u001b[0m\u001b[0;34m'embedding_5'\u001b[0m\u001b[0;34m)\u001b[0m\u001b[0;34m\u001b[0m\u001b[0;34m\u001b[0m\u001b[0m\n\u001b[0m",
            "\u001b[0;32m/usr/local/lib/python3.7/dist-packages/keras/engine/training.py\u001b[0m in \u001b[0;36mget_layer\u001b[0;34m(self, name, index)\u001b[0m\n\u001b[1;32m   2629\u001b[0m         \u001b[0;32mif\u001b[0m \u001b[0mlayer\u001b[0m\u001b[0;34m.\u001b[0m\u001b[0mname\u001b[0m \u001b[0;34m==\u001b[0m \u001b[0mname\u001b[0m\u001b[0;34m:\u001b[0m\u001b[0;34m\u001b[0m\u001b[0;34m\u001b[0m\u001b[0m\n\u001b[1;32m   2630\u001b[0m           \u001b[0;32mreturn\u001b[0m \u001b[0mlayer\u001b[0m\u001b[0;34m\u001b[0m\u001b[0;34m\u001b[0m\u001b[0m\n\u001b[0;32m-> 2631\u001b[0;31m       raise ValueError(f'No such layer: {name}. Existing layers are '\n\u001b[0m\u001b[1;32m   2632\u001b[0m                        f'{self.layers}.')\n\u001b[1;32m   2633\u001b[0m     raise ValueError('Provide either a layer name or layer index at '\n",
            "\u001b[0;31mValueError\u001b[0m: No such layer: embedding_5. Existing layers are [<keras.engine.input_layer.InputLayer object at 0x7fb183dc3ad0>, <keras.layers.embeddings.Embedding object at 0x7fb183dd2690>, <keras.layers.pooling.GlobalAveragePooling1D object at 0x7fb1841efd90>, <keras.layers.core.dense.Dense object at 0x7fb204331c10>, <keras.layers.core.dropout.Dropout object at 0x7fb187314250>, <keras.layers.core.dense.Dense object at 0x7fb1872fb490>]."
          ]
        }
      ]
    },
    {
      "cell_type": "code",
      "metadata": {
        "id": "-fqF0BENmlaU"
      },
      "source": [
        "embd_mtx = embed_l.embeddings"
      ],
      "execution_count": null,
      "outputs": []
    },
    {
      "cell_type": "code",
      "metadata": {
        "id": "p0470vOomzSe"
      },
      "source": [
        "embd_mtx.shape"
      ],
      "execution_count": null,
      "outputs": []
    },
    {
      "cell_type": "code",
      "metadata": {
        "id": "g-oBueeHy-pa"
      },
      "source": [
        "mtx_embd = tf.matmul(embd_mtx, embd_mtx, transpose_a=True)"
      ],
      "execution_count": null,
      "outputs": []
    },
    {
      "cell_type": "code",
      "metadata": {
        "id": "InIARuY9z13c"
      },
      "source": [
        "from numpy import linalg as lng"
      ],
      "execution_count": null,
      "outputs": []
    },
    {
      "cell_type": "code",
      "metadata": {
        "id": "VzXT_7kwz-bQ"
      },
      "source": [
        "svd = lng.svd(embd_mtx)"
      ],
      "execution_count": null,
      "outputs": []
    },
    {
      "cell_type": "code",
      "metadata": {
        "id": "-OA8OJkL0Iin"
      },
      "source": [
        "len(svd)"
      ],
      "execution_count": null,
      "outputs": []
    },
    {
      "cell_type": "code",
      "metadata": {
        "id": "2NmJKook0Sj7"
      },
      "source": [
        "svd[0].shapem "
      ],
      "execution_count": null,
      "outputs": []
    },
    {
      "cell_type": "code",
      "metadata": {
        "id": "Uio__cEv5e24"
      },
      "source": [
        ""
      ],
      "execution_count": null,
      "outputs": []
    }
  ]
}