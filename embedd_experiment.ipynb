{
  "nbformat": 4,
  "nbformat_minor": 0,
  "metadata": {
    "colab": {
      "name": "Untitled1.ipynb",
      "provenance": [],
      "collapsed_sections": [],
      "authorship_tag": "ABX9TyPs0winMoDPaLHVw3RY3zs+"
    },
    "kernelspec": {
      "name": "python3",
      "display_name": "Python 3"
    },
    "language_info": {
      "name": "python"
    }
  },
  "cells": [
    {
      "cell_type": "code",
      "metadata": {
        "id": "J5y3pH226L4T"
      },
      "source": [
        ""
      ],
      "execution_count": null,
      "outputs": []
    },
    {
      "cell_type": "markdown",
      "metadata": {
        "id": "xXnZ1-LX6g-B"
      },
      "source": [
        "## Evolution of Embedding Layer\n",
        "\n",
        "### TODO:\n",
        "- [ ] Add callback \n",
        "- [ ] Store training steps\n",
        "- [ ] Extract embedding weights\n",
        "- [ ] Calculate SVD\n",
        "- [ ] Project it on some human percivable space\n",
        "- [ ] Present the evolution (rotation) of vectors"
      ]
    },
    {
      "cell_type": "code",
      "metadata": {
        "id": "TCvFOv_qOhZn"
      },
      "source": [
        "import tensorflow as tf\n",
        "from tensorflow import keras\n",
        "from keras import layers\n",
        "\n",
        "import numpy as np"
      ],
      "execution_count": 1,
      "outputs": []
    },
    {
      "cell_type": "code",
      "metadata": {
        "id": "sPZZ-F5MOp6w"
      },
      "source": [
        "num_tokens = 10000\n",
        "(x_train_raw, y_train ), (x_test_raw, y_test) = keras.datasets.imdb.load_data(num_words=num_tokens)"
      ],
      "execution_count": 2,
      "outputs": []
    },
    {
      "cell_type": "code",
      "metadata": {
        "colab": {
          "base_uri": "https://localhost:8080/"
        },
        "id": "WAfm0qQghQdf",
        "outputId": "f92505ac-d366-4dde-d251-f5e0c5a41793"
      },
      "source": [
        "words_dict = keras.datasets.imdb.get_word_index()\n",
        "len(words_dict)"
      ],
      "execution_count": 3,
      "outputs": [
        {
          "output_type": "execute_result",
          "data": {
            "text/plain": [
              "88584"
            ]
          },
          "metadata": {},
          "execution_count": 3
        }
      ]
    },
    {
      "cell_type": "code",
      "metadata": {
        "colab": {
          "base_uri": "https://localhost:8080/"
        },
        "id": "COfY0TLZO9zu",
        "outputId": "f303b538-44e5-420d-e9d9-f5e84cd35342"
      },
      "source": [
        "x_train_raw.shape, x_test_raw.shape"
      ],
      "execution_count": 4,
      "outputs": [
        {
          "output_type": "execute_result",
          "data": {
            "text/plain": [
              "((25000,), (25000,))"
            ]
          },
          "metadata": {},
          "execution_count": 4
        }
      ]
    },
    {
      "cell_type": "code",
      "metadata": {
        "colab": {
          "base_uri": "https://localhost:8080/"
        },
        "id": "eP2VAvs1UB5c",
        "outputId": "12f7de04-7d91-4acc-c814-e28a11497042"
      },
      "source": [
        "# Entries (reviews) have different length \n",
        "len(x_train_raw[0]), len(x_train_raw[1])"
      ],
      "execution_count": 5,
      "outputs": [
        {
          "output_type": "execute_result",
          "data": {
            "text/plain": [
              "(218, 189)"
            ]
          },
          "metadata": {},
          "execution_count": 5
        }
      ]
    },
    {
      "cell_type": "code",
      "metadata": {
        "id": "4x6lASBYXUs2"
      },
      "source": [
        "max_len = 250\n",
        "x_train = keras.preprocessing.sequence.pad_sequences(x_train_raw, maxlen=max_len)\n",
        "x_test = keras.preprocessing.sequence.pad_sequences(x_test_raw, maxlen=max_len)\n"
      ],
      "execution_count": 6,
      "outputs": []
    },
    {
      "cell_type": "code",
      "metadata": {
        "colab": {
          "base_uri": "https://localhost:8080/"
        },
        "id": "ZM1h1uYXaSch",
        "outputId": "27d5fee8-b4d7-421e-9242-563754f03001"
      },
      "source": [
        "\n",
        "x_train.shape, x_test.shape"
      ],
      "execution_count": 7,
      "outputs": [
        {
          "output_type": "execute_result",
          "data": {
            "text/plain": [
              "((25000, 250), (25000, 250))"
            ]
          },
          "metadata": {},
          "execution_count": 7
        }
      ]
    },
    {
      "cell_type": "code",
      "metadata": {
        "id": "MFo7KNw4R1jB"
      },
      "source": [
        "# How to convert numpy array to a dataset tensor"
      ],
      "execution_count": 8,
      "outputs": []
    },
    {
      "cell_type": "code",
      "metadata": {
        "id": "6uRpg-AnYYv5"
      },
      "source": [
        "train_ds = tf.data.Dataset.from_tensor_slices ((x_train, y_train))\n",
        "test_ds = tf.data.Dataset.from_tensor_slices((x_test, y_test))\n",
        "\n",
        "train_ds = train_ds.shuffle(train_ds.cardinality())\n",
        "test_ds = test_ds.shuffle(test_ds.cardinality())\n",
        "batch_size = 32\n",
        "train_ds = train_ds.batch(batch_size)\n",
        "test_ds = test_ds.batch(batch_size)"
      ],
      "execution_count": 9,
      "outputs": []
    },
    {
      "cell_type": "code",
      "metadata": {
        "colab": {
          "base_uri": "https://localhost:8080/"
        },
        "id": "J3NKcQtgecLn",
        "outputId": "ad246c11-60f1-4584-d9e8-70332e16dd36"
      },
      "source": [
        "train_ds.cardinality(), test_ds.cardinality()"
      ],
      "execution_count": 10,
      "outputs": [
        {
          "output_type": "execute_result",
          "data": {
            "text/plain": [
              "(<tf.Tensor: shape=(), dtype=int64, numpy=782>,\n",
              " <tf.Tensor: shape=(), dtype=int64, numpy=782>)"
            ]
          },
          "metadata": {},
          "execution_count": 10
        }
      ]
    },
    {
      "cell_type": "code",
      "metadata": {
        "id": "rwbHTKSwSp3g"
      },
      "source": [
        "def create_mode(max_len=max_len, \n",
        "                num_tokens=num_tokens,\n",
        "                embedding_size=16):\n",
        "  \n",
        "  \"\"\" Create a sequencial vanilla deeplearning model.\n",
        "  \"\"\"\n",
        "  inputs = layers.Input(shape=(None,), dtype=tf.int64)\n",
        "  x = layers.Embedding(num_tokens, embedding_size)(inputs)\n",
        "  x = layers.GlobalAvgPool1D()(x)\n",
        "  x = layers.Dense(units=32, activation='relu')(x)\n",
        "  x = layers.Dropout(0.2)(x)\n",
        "  outputs = layers.Dense(units=1, activation='relu')(x)\n",
        "\n",
        "  model = keras.Model(inputs=inputs, outputs=outputs)\n",
        "\n",
        "  return model"
      ],
      "execution_count": 59,
      "outputs": []
    },
    {
      "cell_type": "code",
      "metadata": {
        "id": "LzbEgmX6gXb9"
      },
      "source": [
        "model = create_mode()"
      ],
      "execution_count": 60,
      "outputs": []
    },
    {
      "cell_type": "code",
      "metadata": {
        "id": "9ryiPbmmgZgI"
      },
      "source": [
        "model.compile(optimizer='adam',\n",
        "              loss=\"binary_crossentropy\",\n",
        "              metrics=['accuracy'])"
      ],
      "execution_count": 61,
      "outputs": []
    },
    {
      "cell_type": "code",
      "metadata": {
        "colab": {
          "base_uri": "https://localhost:8080/"
        },
        "id": "gCZWiW4qik27",
        "outputId": "280ab547-ba73-4d9f-ad68-7bec5f7ebbf3"
      },
      "source": [
        "model.summary()"
      ],
      "execution_count": 62,
      "outputs": [
        {
          "output_type": "stream",
          "name": "stdout",
          "text": [
            "Model: \"model_5\"\n",
            "_________________________________________________________________\n",
            " Layer (type)                Output Shape              Param #   \n",
            "=================================================================\n",
            " input_6 (InputLayer)        [(None, None)]            0         \n",
            "                                                                 \n",
            " embedding_5 (Embedding)     (None, None, 16)          160000    \n",
            "                                                                 \n",
            " global_average_pooling1d_5   (None, 16)               0         \n",
            " (GlobalAveragePooling1D)                                        \n",
            "                                                                 \n",
            " dense_10 (Dense)            (None, 32)                544       \n",
            "                                                                 \n",
            " dropout_5 (Dropout)         (None, 32)                0         \n",
            "                                                                 \n",
            " dense_11 (Dense)            (None, 1)                 33        \n",
            "                                                                 \n",
            "=================================================================\n",
            "Total params: 160,577\n",
            "Trainable params: 160,577\n",
            "Non-trainable params: 0\n",
            "_________________________________________________________________\n"
          ]
        }
      ]
    },
    {
      "cell_type": "code",
      "metadata": {
        "colab": {
          "base_uri": "https://localhost:8080/"
        },
        "id": "YRgD7GXugmiM",
        "outputId": "0728a327-9280-4de9-c6f1-fc6c6d3474b6"
      },
      "source": [
        "epochs=2\n",
        "model.fit(train_ds,\n",
        "          validation_data=test_ds,\n",
        "          epochs=epochs)"
      ],
      "execution_count": 65,
      "outputs": [
        {
          "output_type": "stream",
          "name": "stdout",
          "text": [
            "Epoch 1/2\n",
            "782/782 [==============================] - 5s 6ms/step - loss: 0.3079 - accuracy: 0.8990 - val_loss: 0.3730 - val_accuracy: 0.8822\n",
            "Epoch 2/2\n",
            "782/782 [==============================] - 5s 6ms/step - loss: 0.2801 - accuracy: 0.9145 - val_loss: 0.4193 - val_accuracy: 0.8805\n"
          ]
        },
        {
          "output_type": "execute_result",
          "data": {
            "text/plain": [
              "<keras.callbacks.History at 0x7fc6edf46150>"
            ]
          },
          "metadata": {},
          "execution_count": 65
        }
      ]
    },
    {
      "cell_type": "code",
      "metadata": {
        "id": "dYw0tO-kguYC"
      },
      "source": [
        "embed_l = model.get_layer('embedding_5')"
      ],
      "execution_count": 74,
      "outputs": []
    },
    {
      "cell_type": "code",
      "metadata": {
        "id": "-fqF0BENmlaU"
      },
      "source": [
        "embd_mtx = embed_l.embeddings"
      ],
      "execution_count": 75,
      "outputs": []
    },
    {
      "cell_type": "code",
      "metadata": {
        "colab": {
          "base_uri": "https://localhost:8080/"
        },
        "id": "p0470vOomzSe",
        "outputId": "bb11059a-5ac7-434e-897e-278afe06c012"
      },
      "source": [
        "embd_mtx.shape"
      ],
      "execution_count": 77,
      "outputs": [
        {
          "output_type": "execute_result",
          "data": {
            "text/plain": [
              "TensorShape([10000, 16])"
            ]
          },
          "metadata": {},
          "execution_count": 77
        }
      ]
    },
    {
      "cell_type": "code",
      "metadata": {
        "id": "g-oBueeHy-pa"
      },
      "source": [
        "mtx_embd = tf.matmul(embd_mtx, embd_mtx, transpose_a=True)"
      ],
      "execution_count": 83,
      "outputs": []
    },
    {
      "cell_type": "code",
      "metadata": {
        "id": "InIARuY9z13c"
      },
      "source": [
        "from numpy import linalg as lng"
      ],
      "execution_count": 84,
      "outputs": []
    },
    {
      "cell_type": "code",
      "metadata": {
        "id": "VzXT_7kwz-bQ"
      },
      "source": [
        "svd = lng.svd(embd_mtx)"
      ],
      "execution_count": 89,
      "outputs": []
    },
    {
      "cell_type": "code",
      "metadata": {
        "colab": {
          "base_uri": "https://localhost:8080/"
        },
        "id": "-OA8OJkL0Iin",
        "outputId": "22c6e9b3-30c8-438e-a6c0-706c305267b8"
      },
      "source": [
        "len(svd)"
      ],
      "execution_count": 88,
      "outputs": [
        {
          "output_type": "execute_result",
          "data": {
            "text/plain": [
              "3"
            ]
          },
          "metadata": {},
          "execution_count": 88
        }
      ]
    },
    {
      "cell_type": "code",
      "metadata": {
        "id": "2NmJKook0Sj7"
      },
      "source": [
        "svd[0].shapem "
      ],
      "execution_count": null,
      "outputs": []
    },
    {
      "cell_type": "code",
      "metadata": {
        "id": "Uio__cEv5e24"
      },
      "source": [
        ""
      ],
      "execution_count": null,
      "outputs": []
    }
  ]
}