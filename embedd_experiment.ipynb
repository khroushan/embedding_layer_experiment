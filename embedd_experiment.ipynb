{
  "nbformat": 4,
  "nbformat_minor": 0,
  "metadata": {
    "colab": {
      "name": "Untitled1.ipynb",
      "provenance": [],
      "collapsed_sections": [],
      "authorship_tag": "ABX9TyM/mI8Vy90yjGdeaPXvGYF+"
    },
    "kernelspec": {
      "name": "python3",
      "display_name": "Python 3"
    },
    "language_info": {
      "name": "python"
    }
  },
  "cells": [
    {
      "cell_type": "code",
      "metadata": {
        "id": "J5y3pH226L4T",
        "outputId": "f126c6a4-8ece-4b9c-be0a-d5a7c7abe291",
        "colab": {
          "base_uri": "https://localhost:8080/"
        }
      },
      "source": [
        "!ls sample_data/"
      ],
      "execution_count": 2,
      "outputs": [
        {
          "output_type": "stream",
          "name": "stdout",
          "text": [
            "anscombe.json\t\t      mnist_test.csv\n",
            "california_housing_test.csv   mnist_train_small.csv\n",
            "california_housing_train.csv  README.md\n"
          ]
        }
      ]
    },
    {
      "cell_type": "markdown",
      "metadata": {
        "id": "xXnZ1-LX6g-B"
      },
      "source": [
        "## Evolution of Embedding Layer\n",
        "\n",
        "### TODO:\n",
        "- [ ] Add callback \n",
        "- [ ] Store training steps\n",
        "- [ ] Extract embedding weights\n",
        "- [ ] Calculate SVD\n",
        "- [ ] Project it on some human percivable space\n",
        "- [ ] Present the evolution (rotation) of vectors"
      ]
    },
    {
      "cell_type": "code",
      "metadata": {
        "id": "TCvFOv_qOhZn"
      },
      "source": [
        "import tensorflow as tf\n",
        "from tensorflow import keras\n",
        "from keras import layers\n",
        "\n",
        "import numpy as np"
      ],
      "execution_count": 3,
      "outputs": []
    },
    {
      "cell_type": "markdown",
      "metadata": {
        "id": "DUW5hbRWm-g6"
      },
      "source": [
        "### Read Data\n",
        "Texts are represented by integer numbers that are sorted according to their frequency in corpus. Each text have a different length that are stored as length-variant lists. We use `pad_sequences` to make the lengths the same."
      ]
    },
    {
      "cell_type": "code",
      "metadata": {
        "id": "sPZZ-F5MOp6w"
      },
      "source": [
        "num_tokens = 10000\n",
        "(x_train_raw, y_train ), (x_test_raw, y_test) = keras.datasets.imdb.load_data(num_words=num_tokens)"
      ],
      "execution_count": 5,
      "outputs": []
    },
    {
      "cell_type": "code",
      "metadata": {
        "colab": {
          "base_uri": "https://localhost:8080/"
        },
        "id": "WAfm0qQghQdf",
        "outputId": "08c73079-5c75-4de9-8118-2d8d5c8f6376"
      },
      "source": [
        "words_dict = keras.datasets.imdb.get_word_index()\n",
        "len(words_dict)"
      ],
      "execution_count": 6,
      "outputs": [
        {
          "output_type": "stream",
          "name": "stdout",
          "text": [
            "Downloading data from https://storage.googleapis.com/tensorflow/tf-keras-datasets/imdb_word_index.json\n",
            "1646592/1641221 [==============================] - 0s 0us/step\n",
            "1654784/1641221 [==============================] - 0s 0us/step\n"
          ]
        },
        {
          "output_type": "execute_result",
          "data": {
            "text/plain": [
              "88584"
            ]
          },
          "metadata": {},
          "execution_count": 6
        }
      ]
    },
    {
      "cell_type": "code",
      "metadata": {
        "colab": {
          "base_uri": "https://localhost:8080/"
        },
        "id": "COfY0TLZO9zu",
        "outputId": "7878262d-e08c-4ac1-89e4-e9f60bc3cc97"
      },
      "source": [
        "x_train_raw.shape, x_test_raw.shape"
      ],
      "execution_count": 7,
      "outputs": [
        {
          "output_type": "execute_result",
          "data": {
            "text/plain": [
              "((25000,), (25000,))"
            ]
          },
          "metadata": {},
          "execution_count": 7
        }
      ]
    },
    {
      "cell_type": "code",
      "metadata": {
        "colab": {
          "base_uri": "https://localhost:8080/"
        },
        "id": "eP2VAvs1UB5c",
        "outputId": "e875dd94-7052-4d10-ccb0-b2c1f78b7df0"
      },
      "source": [
        "# Entries (reviews) have different length \n",
        "len(x_train_raw[0]), len(x_train_raw[1])"
      ],
      "execution_count": 8,
      "outputs": [
        {
          "output_type": "execute_result",
          "data": {
            "text/plain": [
              "(218, 189)"
            ]
          },
          "metadata": {},
          "execution_count": 8
        }
      ]
    },
    {
      "cell_type": "markdown",
      "metadata": {
        "id": "M-u4X5GloiGh"
      },
      "source": [
        "### Standardize the length of each text"
      ]
    },
    {
      "cell_type": "code",
      "metadata": {
        "id": "4x6lASBYXUs2"
      },
      "source": [
        "max_len = 250\n",
        "x_train = keras.preprocessing.sequence.pad_sequences(x_train_raw, maxlen=max_len)\n",
        "x_test = keras.preprocessing.sequence.pad_sequences(x_test_raw, maxlen=max_len)\n"
      ],
      "execution_count": 10,
      "outputs": []
    },
    {
      "cell_type": "code",
      "metadata": {
        "colab": {
          "base_uri": "https://localhost:8080/"
        },
        "id": "ZM1h1uYXaSch",
        "outputId": "719a2369-1d83-4efa-f8f1-dc9681b2828f"
      },
      "source": [
        "\n",
        "x_train.shape, x_test.shape"
      ],
      "execution_count": 11,
      "outputs": [
        {
          "output_type": "execute_result",
          "data": {
            "text/plain": [
              "((25000, 250), (25000, 250))"
            ]
          },
          "metadata": {},
          "execution_count": 11
        }
      ]
    },
    {
      "cell_type": "markdown",
      "metadata": {
        "id": "MFo7KNw4R1jB"
      },
      "source": [
        "### Convert Numpy `array` to a `dataset` tensor"
      ]
    },
    {
      "cell_type": "code",
      "metadata": {
        "id": "6uRpg-AnYYv5"
      },
      "source": [
        "train_ds = tf.data.Dataset.from_tensor_slices ((x_train, y_train))\n",
        "test_ds = tf.data.Dataset.from_tensor_slices((x_test, y_test))\n",
        "\n",
        "train_ds = train_ds.shuffle(train_ds.cardinality())\n",
        "test_ds = test_ds.shuffle(test_ds.cardinality())\n",
        "\n",
        "batch_size = 32\n",
        "train_ds = train_ds.batch(batch_size)\n",
        "test_ds = test_ds.batch(batch_size)"
      ],
      "execution_count": 12,
      "outputs": []
    },
    {
      "cell_type": "code",
      "metadata": {
        "colab": {
          "base_uri": "https://localhost:8080/"
        },
        "id": "J3NKcQtgecLn",
        "outputId": "2f05bb16-dac8-4900-f498-6030c0ab046e"
      },
      "source": [
        "train_ds.cardinality(), test_ds.cardinality()"
      ],
      "execution_count": 13,
      "outputs": [
        {
          "output_type": "execute_result",
          "data": {
            "text/plain": [
              "(<tf.Tensor: shape=(), dtype=int64, numpy=782>,\n",
              " <tf.Tensor: shape=(), dtype=int64, numpy=782>)"
            ]
          },
          "metadata": {},
          "execution_count": 13
        }
      ]
    },
    {
      "cell_type": "code",
      "metadata": {
        "id": "rwbHTKSwSp3g"
      },
      "source": [
        "def create_model(max_len=max_len, \n",
        "                num_tokens=num_tokens,\n",
        "                embedding_size=16):\n",
        "  \"\"\" Create a sequential vanilla deeplearning model using functional api\n",
        "  input:\n",
        "  ------\n",
        "  max_len: (int) length of each message, if shorter padded to the same length\n",
        "  num_tokens: (int) max numbe of tokens (features)\n",
        "  embedding_size: (int) embedding layer dimension\n",
        "\n",
        "  return:\n",
        "  -------\n",
        "  model: (keras model) a vanilla sequential model\n",
        "  \"\"\"\n",
        "  inputs = layers.Input(shape=(None,), dtype=tf.int64)\n",
        "  x = layers.Embedding(num_tokens, embedding_size, name='embedding')(inputs)\n",
        "  x = layers.GlobalAvgPool1D(name='avg-pooling')(x)\n",
        "  x = layers.Dense(units=32, activation='relu', name='Dense')(x)\n",
        "  x = layers.Dropout(0.2, name='dropout')(x)\n",
        "  outputs = layers.Dense(units=1, activation='relu', name='prediction')(x)\n",
        "\n",
        "  model = keras.Model(inputs=inputs, outputs=outputs)\n",
        "\n",
        "  return model"
      ],
      "execution_count": 26,
      "outputs": []
    },
    {
      "cell_type": "code",
      "metadata": {
        "id": "LzbEgmX6gXb9"
      },
      "source": [
        "model = create_model()"
      ],
      "execution_count": 43,
      "outputs": []
    },
    {
      "cell_type": "code",
      "metadata": {
        "id": "9ryiPbmmgZgI"
      },
      "source": [
        "model.compile(optimizer='adam',\n",
        "              loss=\"binary_crossentropy\",\n",
        "              metrics=['accuracy'])"
      ],
      "execution_count": 44,
      "outputs": []
    },
    {
      "cell_type": "code",
      "metadata": {
        "colab": {
          "base_uri": "https://localhost:8080/"
        },
        "id": "gCZWiW4qik27",
        "outputId": "34acc237-5fc0-49a7-c7b8-130c8464317c"
      },
      "source": [
        "model.summary()"
      ],
      "execution_count": 45,
      "outputs": [
        {
          "output_type": "stream",
          "name": "stdout",
          "text": [
            "Model: \"model_3\"\n",
            "_________________________________________________________________\n",
            " Layer (type)                Output Shape              Param #   \n",
            "=================================================================\n",
            " input_4 (InputLayer)        [(None, None)]            0         \n",
            "                                                                 \n",
            " embedding (Embedding)       (None, None, 16)          160000    \n",
            "                                                                 \n",
            " avg-pooling (GlobalAverageP  (None, 16)               0         \n",
            " ooling1D)                                                       \n",
            "                                                                 \n",
            " Dense (Dense)               (None, 32)                544       \n",
            "                                                                 \n",
            " dropout (Dropout)           (None, 32)                0         \n",
            "                                                                 \n",
            " prediction (Dense)          (None, 1)                 33        \n",
            "                                                                 \n",
            "=================================================================\n",
            "Total params: 160,577\n",
            "Trainable params: 160,577\n",
            "Non-trainable params: 0\n",
            "_________________________________________________________________\n"
          ]
        }
      ]
    },
    {
      "cell_type": "code",
      "metadata": {
        "id": "ZzIsqBRir5z-"
      },
      "source": [
        "# !rm -r callbacks/"
      ],
      "execution_count": 41,
      "outputs": []
    },
    {
      "cell_type": "code",
      "metadata": {
        "id": "UxYv7mO39d7o"
      },
      "source": [
        "callbacks = [\n",
        "    keras.callbacks.ModelCheckpoint (\n",
        "        filepath='./callbacks/',\n",
        "        save_freq='epoch')\n",
        "]"
      ],
      "execution_count": 46,
      "outputs": []
    },
    {
      "cell_type": "code",
      "metadata": {
        "colab": {
          "base_uri": "https://localhost:8080/"
        },
        "id": "YRgD7GXugmiM",
        "outputId": "52631c32-7617-4237-fcf5-b2ca2537a491"
      },
      "source": [
        "epochs=5\n",
        "model.fit(train_ds,\n",
        "          validation_data=test_ds,\n",
        "          epochs=epochs,\n",
        "          callbacks=callbacks)"
      ],
      "execution_count": 47,
      "outputs": [
        {
          "output_type": "stream",
          "name": "stdout",
          "text": [
            "Epoch 1/5\n",
            "779/782 [============================>.] - ETA: 0s - loss: 0.6131 - accuracy: 0.6976INFO:tensorflow:Assets written to: ./callbacks/assets\n",
            "782/782 [==============================] - 7s 8ms/step - loss: 0.6123 - accuracy: 0.6982 - val_loss: 0.3758 - val_accuracy: 0.8653\n",
            "Epoch 2/5\n",
            "779/782 [============================>.] - ETA: 0s - loss: 0.3467 - accuracy: 0.8912INFO:tensorflow:Assets written to: ./callbacks/assets\n",
            "782/782 [==============================] - 6s 8ms/step - loss: 0.3462 - accuracy: 0.8913 - val_loss: 0.3711 - val_accuracy: 0.8747\n",
            "Epoch 3/5\n",
            "780/782 [============================>.] - ETA: 0s - loss: 0.2979 - accuracy: 0.9133INFO:tensorflow:Assets written to: ./callbacks/assets\n",
            "782/782 [==============================] - 6s 8ms/step - loss: 0.2976 - accuracy: 0.9134 - val_loss: 0.4411 - val_accuracy: 0.8822\n",
            "Epoch 4/5\n",
            "772/782 [============================>.] - ETA: 0s - loss: 0.4179 - accuracy: 0.9000INFO:tensorflow:Assets written to: ./callbacks/assets\n",
            "782/782 [==============================] - 6s 7ms/step - loss: 0.4214 - accuracy: 0.8986 - val_loss: 0.6452 - val_accuracy: 0.7572\n",
            "Epoch 5/5\n",
            "774/782 [============================>.] - ETA: 0s - loss: 0.3502 - accuracy: 0.8740INFO:tensorflow:Assets written to: ./callbacks/assets\n",
            "782/782 [==============================] - 6s 8ms/step - loss: 0.3490 - accuracy: 0.8742 - val_loss: 0.4019 - val_accuracy: 0.8667\n"
          ]
        },
        {
          "output_type": "execute_result",
          "data": {
            "text/plain": [
              "<keras.callbacks.History at 0x7f8a3563e890>"
            ]
          },
          "metadata": {},
          "execution_count": 47
        }
      ]
    },
    {
      "cell_type": "code",
      "metadata": {
        "id": "LKjbDw8oqgvy"
      },
      "source": [
        "!ls callbacks/assets"
      ],
      "execution_count": 50,
      "outputs": []
    },
    {
      "cell_type": "code",
      "metadata": {
        "id": "JYrpwmKft381"
      },
      "source": [
        "list_of_words = ['good', 'bad', 'amazing', 'fantastics', 'boring', 'rewarding']"
      ],
      "execution_count": null,
      "outputs": []
    },
    {
      "cell_type": "code",
      "metadata": {
        "id": "dYw0tO-kguYC"
      },
      "source": [
        "embed_l = model.get_layer('embedding')"
      ],
      "execution_count": 51,
      "outputs": []
    },
    {
      "cell_type": "code",
      "metadata": {
        "id": "-fqF0BENmlaU"
      },
      "source": [
        "embd_mtx = embed_l.embeddings"
      ],
      "execution_count": 52,
      "outputs": []
    },
    {
      "cell_type": "code",
      "metadata": {
        "id": "p0470vOomzSe",
        "outputId": "1e2c45d0-fb28-4bfd-ba44-4db00861b4a9",
        "colab": {
          "base_uri": "https://localhost:8080/"
        }
      },
      "source": [
        "embd_mtx.shape"
      ],
      "execution_count": 53,
      "outputs": [
        {
          "output_type": "execute_result",
          "data": {
            "text/plain": [
              "TensorShape([10000, 16])"
            ]
          },
          "metadata": {},
          "execution_count": 53
        }
      ]
    },
    {
      "cell_type": "code",
      "metadata": {
        "id": "PIjDEZ2Wsilg",
        "outputId": "d75f1e68-920f-4614-a06f-481f35ab4648",
        "colab": {
          "base_uri": "https://localhost:8080/"
        }
      },
      "source": [
        "words_dict['man']"
      ],
      "execution_count": 65,
      "outputs": [
        {
          "output_type": "execute_result",
          "data": {
            "text/plain": [
              "129"
            ]
          },
          "metadata": {},
          "execution_count": 65
        }
      ]
    },
    {
      "cell_type": "code",
      "metadata": {
        "id": "g-oBueeHy-pa"
      },
      "source": [
        "mtx_embd = tf.matmul(embd_mtx, embd_mtx, transpose_a=True)"
      ],
      "execution_count": null,
      "outputs": []
    },
    {
      "cell_type": "code",
      "metadata": {
        "id": "InIARuY9z13c"
      },
      "source": [
        "from numpy import linalg as lng"
      ],
      "execution_count": null,
      "outputs": []
    },
    {
      "cell_type": "code",
      "metadata": {
        "id": "VzXT_7kwz-bQ"
      },
      "source": [
        "svd = lng.svd(embd_mtx)"
      ],
      "execution_count": null,
      "outputs": []
    },
    {
      "cell_type": "code",
      "metadata": {
        "id": "-OA8OJkL0Iin"
      },
      "source": [
        "len(svd)"
      ],
      "execution_count": null,
      "outputs": []
    },
    {
      "cell_type": "code",
      "metadata": {
        "id": "2NmJKook0Sj7"
      },
      "source": [
        "svd[0].shapem "
      ],
      "execution_count": null,
      "outputs": []
    },
    {
      "cell_type": "code",
      "metadata": {
        "id": "Uio__cEv5e24"
      },
      "source": [
        ""
      ],
      "execution_count": null,
      "outputs": []
    }
  ]
}